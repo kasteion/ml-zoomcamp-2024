{
 "cells": [
  {
   "cell_type": "markdown",
   "metadata": {},
   "source": [
    "# Evaluation Metrics"
   ]
  },
  {
   "cell_type": "code",
   "execution_count": 1,
   "metadata": {},
   "outputs": [
    {
     "name": "stderr",
     "output_type": "stream",
     "text": [
      "/Users/kasteion/repos/kasteion/machine-learning-zoomcamp/venv/lib/python3.12/site-packages/sklearn/linear_model/_logistic.py:469: ConvergenceWarning: lbfgs failed to converge (status=1):\n",
      "STOP: TOTAL NO. of ITERATIONS REACHED LIMIT.\n",
      "\n",
      "Increase the number of iterations (max_iter) or scale the data as shown in:\n",
      "    https://scikit-learn.org/stable/modules/preprocessing.html\n",
      "Please also refer to the documentation for alternative solver options:\n",
      "    https://scikit-learn.org/stable/modules/linear_model.html#logistic-regression\n",
      "  n_iter_i = _check_optimize_result(\n"
     ]
    },
    {
     "data": {
      "text/plain": [
       "np.float64(0.8034066713981547)"
      ]
     },
     "execution_count": 1,
     "metadata": {},
     "output_type": "execute_result"
    }
   ],
   "source": [
    "import pandas as pd\n",
    "import numpy as np\n",
    "from matplotlib import pyplot as plt\n",
    "from sklearn.model_selection import train_test_split\n",
    "from sklearn.feature_extraction import DictVectorizer\n",
    "from sklearn.linear_model import LogisticRegression\n",
    "\n",
    "df = pd.read_csv('Telco-Customer-Churn.csv')\n",
    "df.columns = df.columns.str.lower().str.replace(' ', '_')\n",
    "categorical = list(df.dtypes[df.dtypes == 'object'].index)\n",
    "for c in categorical:\n",
    "    df[c] = df[c].str.lower().str.replace(' ', '_')\n",
    "df.totalcharges = pd.to_numeric(df.totalcharges, errors='coerce').fillna(0)\n",
    "df.churn = (df.churn == 'yes').astype(int)\n",
    "df_full_train, df_test = train_test_split(df, test_size=0.2, random_state=1)\n",
    "df_train, df_val = train_test_split(df_full_train, test_size=0.25, random_state=1)\n",
    "\n",
    "numerical = ['tenure', 'monthlycharges', 'totalcharges']\n",
    "categorical = [c for c in list(df.columns) if c not in numerical + ['customerid', 'churn']]\n",
    "\n",
    "dicts_train = df_train[categorical + numerical].to_dict(orient='records')\n",
    "dv = DictVectorizer(sparse=False)\n",
    "X_train = dv.fit_transform(dicts_train)\n",
    "y_train = df_train.churn.values\n",
    "model = LogisticRegression()\n",
    "model.fit(X_train, y_train)\n",
    "\n",
    "dicts_val = df_val[categorical + numerical].to_dict(orient='records')\n",
    "X_val = dv.transform(dicts_val)\n",
    "y_val = df_val.churn\n",
    "y_pred = model.predict_proba(X_val)[:, 1]\n",
    "churn_decision = (y_pred >= 0.5)\n",
    "(churn_decision == y_val).mean()\n"
   ]
  },
  {
   "cell_type": "markdown",
   "metadata": {},
   "source": [
    "## Accuracy and dummy model\n",
    "\n",
    "- Evaluate the model on different thresholds\n",
    "- Check the accuracy of dummy baselines"
   ]
  },
  {
   "cell_type": "code",
   "execution_count": 2,
   "metadata": {},
   "outputs": [
    {
     "data": {
      "text/plain": [
       "1409"
      ]
     },
     "execution_count": 2,
     "metadata": {},
     "output_type": "execute_result"
    }
   ],
   "source": [
    "# How many customers we have in the validation dataset\n",
    "len(df_val)"
   ]
  },
  {
   "cell_type": "code",
   "execution_count": 3,
   "metadata": {},
   "outputs": [
    {
     "name": "stdout",
     "output_type": "stream",
     "text": [
      "Correct: 1132\n"
     ]
    }
   ],
   "source": [
    "print(\"Correct:\", (churn_decision == y_val).sum())"
   ]
  },
  {
   "cell_type": "code",
   "execution_count": 4,
   "metadata": {},
   "outputs": [
    {
     "name": "stdout",
     "output_type": "stream",
     "text": [
      "Accuracy: 0.8034066713981547\n"
     ]
    }
   ],
   "source": [
    "print(\"Accuracy:\",  (churn_decision == y_val).sum() / len(df_val))"
   ]
  },
  {
   "cell_type": "code",
   "execution_count": 5,
   "metadata": {},
   "outputs": [
    {
     "name": "stdout",
     "output_type": "stream",
     "text": [
      "Accuracy: 0.8034066713981547\n"
     ]
    }
   ],
   "source": [
    "# Is the same as the mean\n",
    "print(\"Accuracy:\", (churn_decision == y_val).mean())"
   ]
  },
  {
   "cell_type": "code",
   "execution_count": 6,
   "metadata": {},
   "outputs": [
    {
     "name": "stdout",
     "output_type": "stream",
     "text": [
      "Threshold: 0.00 Score: 0.274\n",
      "Threshold: 0.05 Score: 0.509\n",
      "Threshold: 0.10 Score: 0.591\n",
      "Threshold: 0.15 Score: 0.666\n",
      "Threshold: 0.20 Score: 0.710\n",
      "Threshold: 0.25 Score: 0.739\n",
      "Threshold: 0.30 Score: 0.760\n",
      "Threshold: 0.35 Score: 0.772\n",
      "Threshold: 0.40 Score: 0.785\n",
      "Threshold: 0.45 Score: 0.793\n",
      "Threshold: 0.50 Score: 0.803\n",
      "Threshold: 0.55 Score: 0.801\n",
      "Threshold: 0.60 Score: 0.795\n",
      "Threshold: 0.65 Score: 0.786\n",
      "Threshold: 0.70 Score: 0.766\n",
      "Threshold: 0.75 Score: 0.744\n",
      "Threshold: 0.80 Score: 0.735\n",
      "Threshold: 0.85 Score: 0.726\n",
      "Threshold: 0.90 Score: 0.726\n",
      "Threshold: 0.95 Score: 0.726\n",
      "Threshold: 1.00 Score: 0.726\n"
     ]
    },
    {
     "data": {
      "text/plain": [
       "[<matplotlib.lines.Line2D at 0x1325fc710>]"
      ]
     },
     "execution_count": 6,
     "metadata": {},
     "output_type": "execute_result"
    },
    {
     "data": {
      "image/png": "[encoded data removed]",
      "text/plain": [
       "<Figure size 640x480 with 1 Axes>"
      ]
     },
     "metadata": {},
     "output_type": "display_data"
    }
   ],
   "source": [
    "# We can measure the accuracy using different thresholds\n",
    "# Here we are creating 21 thresholds between 0 and 1\n",
    "thresholds = np.linspace(0, 1, 21)\n",
    "\n",
    "scores = []\n",
    "\n",
    "# And we can measure the accuracy for each threshold\n",
    "for t in thresholds:\n",
    "    churn_decision = (y_pred >= t)\n",
    "    score = (y_val == churn_decision).mean()\n",
    "    print('Threshold: %.2f Score: %.3f' % (t, score))\n",
    "    scores.append(score)\n",
    "\n",
    "# We plot the scores\n",
    "plt.plot(thresholds, scores)"
   ]
  },
  {
   "cell_type": "code",
   "execution_count": 7,
   "metadata": {},
   "outputs": [
    {
     "data": {
      "text/plain": [
       "0.8034066713981547"
      ]
     },
     "execution_count": 7,
     "metadata": {},
     "output_type": "execute_result"
    }
   ],
   "source": [
    "# We measured the accuracy with this:\n",
    "#   churn_decision = (y_pred >= t)\n",
    "#   score = (y_val == churn_decision).mean()\n",
    "# But we can use the accuracy_score function from sklearn.metrics\n",
    "from sklearn.metrics import accuracy_score\n",
    "accuracy_score(y_val, y_pred >= 0.5)"
   ]
  },
  {
   "cell_type": "code",
   "execution_count": 8,
   "metadata": {},
   "outputs": [
    {
     "name": "stdout",
     "output_type": "stream",
     "text": [
      "Threshold: 0.00 Score: 0.274\n",
      "Threshold: 0.05 Score: 0.509\n",
      "Threshold: 0.10 Score: 0.591\n",
      "Threshold: 0.15 Score: 0.666\n",
      "Threshold: 0.20 Score: 0.710\n",
      "Threshold: 0.25 Score: 0.739\n",
      "Threshold: 0.30 Score: 0.760\n",
      "Threshold: 0.35 Score: 0.772\n",
      "Threshold: 0.40 Score: 0.785\n",
      "Threshold: 0.45 Score: 0.793\n",
      "Threshold: 0.50 Score: 0.803\n",
      "Threshold: 0.55 Score: 0.801\n",
      "Threshold: 0.60 Score: 0.795\n",
      "Threshold: 0.65 Score: 0.786\n",
      "Threshold: 0.70 Score: 0.766\n",
      "Threshold: 0.75 Score: 0.744\n",
      "Threshold: 0.80 Score: 0.735\n",
      "Threshold: 0.85 Score: 0.726\n",
      "Threshold: 0.90 Score: 0.726\n",
      "Threshold: 0.95 Score: 0.726\n",
      "Threshold: 1.00 Score: 0.726\n"
     ]
    }
   ],
   "source": [
    "# And the accuracy of the thresholds will be like this:\n",
    "for t in thresholds:\n",
    "    score = accuracy_score(y_val, y_pred >= t)\n",
    "    print('Threshold: %.2f Score: %.3f' % (t, score))\n",
    "    scores.append(score)"
   ]
  },
  {
   "cell_type": "code",
   "execution_count": 9,
   "metadata": {},
   "outputs": [
    {
     "data": {
      "text/plain": [
       "Counter({np.False_: 1409})"
      ]
     },
     "execution_count": 9,
     "metadata": {},
     "output_type": "execute_result"
    }
   ],
   "source": [
    "# The threshold of 1.0 is interesting because it is a model that predicts that nobody will churn\n",
    "# And even if we have a model that predicts that no customers will churn it will have 72% accuracy\n",
    "# The difference between a model that predicts nobody will churn an our model the difference is 7% (sort of)\n",
    "# This is because we have class imbalance (to many people will not churn and little people will churn)\n",
    "# We will look to the numbers that can help us evaluate our model better.\n",
    "from collections import Counter\n",
    "Counter(y_pred >= 1.0)"
   ]
  },
  {
   "cell_type": "markdown",
   "metadata": {},
   "source": [
    "# Confusion table\n",
    "\n",
    "- Different types of errors and correct decissions\n",
    "    - True Negatives: Correct (Predicted no churn and didn't churn)\n",
    "    - False Negatives: Error (Predicted no churn and churned)\n",
    "    - False Positive: Error (Predicted churn and didn't churn)\n",
    "    - True Positivie: Correct (Predicted churn and churned)\n",
    "- Arranging them in a table"
   ]
  },
  {
   "cell_type": "code",
   "execution_count": 10,
   "metadata": {},
   "outputs": [],
   "source": [
    "actual_positive = (y_val == 1)\n",
    "actual_negative = (y_val == 0)"
   ]
  },
  {
   "cell_type": "code",
   "execution_count": 11,
   "metadata": {},
   "outputs": [],
   "source": [
    "t = 0.5\n",
    "predict_positive = (y_pred >= t)\n",
    "predict_negative = (y_pred < t)"
   ]
  },
  {
   "cell_type": "code",
   "execution_count": 17,
   "metadata": {},
   "outputs": [],
   "source": [
    "# True positives: 210 (Correct)\n",
    "tp = (predict_positive & actual_positive).sum()\n",
    "# True negatives: 910 (Correct)\n",
    "tn = (predict_negative & actual_negative).sum()\n",
    "# False positives: (Error)\n",
    "fp = (predict_positive & actual_negative).sum()\n",
    "# False negatives: (Error)\n",
    "fn = (predict_negative & actual_positive).sum()"
   ]
  },
  {
   "cell_type": "code",
   "execution_count": 19,
   "metadata": {},
   "outputs": [
    {
     "data": {
      "text/plain": [
       "array([[922, 101],\n",
       "       [176, 210]])"
      ]
     },
     "execution_count": 19,
     "metadata": {},
     "output_type": "execute_result"
    }
   ],
   "source": [
    "# A confussion matrix is a way to have the sum results (Correct and Errors) in the same matrix\n",
    "# Is a table like this:\n",
    "#               Predictions\n",
    "#                     Negative       |   Positive    |\n",
    "#           Negative  922 (65%)      | 101 (7%) (Err)\n",
    "#   Actual            -------------- | ------------- |\n",
    "#           Positive  176 (12%) (Err)| 210 (14%)\n",
    "# \n",
    "# We can notice we have a lot more False Negatives than False Positives\n",
    "#\n",
    "# Here instead of having 1 value we have 4 values\n",
    "# And from the values of the confussion matrix we can derive more metrics\n",
    "confussion_matrix = np.array([\n",
    "    [tn, fp],\n",
    "    [fn, tp]\n",
    "])\n",
    "confussion_matrix"
   ]
  },
  {
   "cell_type": "code",
   "execution_count": 20,
   "metadata": {},
   "outputs": [
    {
     "data": {
      "text/plain": [
       "array([[0.6543648 , 0.07168204],\n",
       "       [0.12491128, 0.14904187]])"
      ]
     },
     "execution_count": 20,
     "metadata": {},
     "output_type": "execute_result"
    }
   ],
   "source": [
    "confussion_matrix / confussion_matrix.sum()"
   ]
  },
  {
   "cell_type": "markdown",
   "metadata": {},
   "source": [
    "# Precission and Recall\n",
    "\n",
    "Metrics to validate binary classification models based on the values of the confussion table."
   ]
  },
  {
   "cell_type": "code",
   "execution_count": 24,
   "metadata": {},
   "outputs": [
    {
     "data": {
      "text/plain": [
       "np.float64(0.8034066713981547)"
      ]
     },
     "execution_count": 24,
     "metadata": {},
     "output_type": "execute_result"
    }
   ],
   "source": [
    "accuracy = (tp + tn) / (tp + tn + fp + fn)\n",
    "accuracy"
   ]
  },
  {
   "cell_type": "markdown",
   "metadata": {},
   "source": [
    "**Precission**: Fraction of positive predictions that are correct"
   ]
  },
  {
   "cell_type": "code",
   "execution_count": 25,
   "metadata": {},
   "outputs": [
    {
     "data": {
      "text/plain": [
       "np.float64(0.6752411575562701)"
      ]
     },
     "execution_count": 25,
     "metadata": {},
     "output_type": "execute_result"
    }
   ],
   "source": [
    "# Precission is 67% so we sent promotional email to 33% of users that weren't going to churn (They probably will take advantage of our promitional emails)\n",
    "precission = tp / (tp + fp)\n",
    "precission"
   ]
  },
  {
   "cell_type": "markdown",
   "metadata": {},
   "source": [
    "**Recall**: Fraction of correctly identified positive examples"
   ]
  },
  {
   "cell_type": "code",
   "execution_count": 27,
   "metadata": {},
   "outputs": [
    {
     "data": {
      "text/plain": [
       "np.float64(0.5440414507772021)"
      ]
     },
     "execution_count": 27,
     "metadata": {},
     "output_type": "execute_result"
    }
   ],
   "source": [
    "# Recall is 54% so we failed to identify 46% of users that were going to churn\n",
    "# true positives / (true positives + false negatives)\n",
    "recall = tp / (tp + fn)\n",
    "recall"
   ]
  },
  {
   "cell_type": "markdown",
   "metadata": {},
   "source": [
    "We notice our model is not as accurate as we thought (80%) this is because we have a class imbalance in the data provided."
   ]
  },
  {
   "cell_type": "markdown",
   "metadata": {},
   "source": [
    "# ROC Curves\n",
    "\n",
    "Receiver Operating Caracteristics (A way of describing the performance of a binary classification model).\n",
    "\n",
    "Originaly, this idea was used on WWII to evaluate the strength of radar detectors.\n",
    "\n",
    "For this we are interested in two numbers:\n",
    "- FPR (False positive rate)\n",
    "- TPR (True positive rate)\n",
    "\n",
    "This metrics are computed from the values of the confussion matrix."
   ]
  },
  {
   "cell_type": "markdown",
   "metadata": {},
   "source": [
    "### TPR and FPR\n",
    "\n",
    "- FPR: \n",
    "    - fp / (tn + fp)\n",
    "    - false positives / (true negatives + false positives) \n",
    "    - We want to minimize false positive rate.\n",
    "- TPR: \n",
    "    - tp / (fn * tp) \n",
    "    - true positives / (false negatives + true positives) \n",
    "    - We want to maximize true positive rate"
   ]
  },
  {
   "cell_type": "code",
   "execution_count": 28,
   "metadata": {},
   "outputs": [
    {
     "data": {
      "text/plain": [
       "np.float64(0.5440414507772021)"
      ]
     },
     "execution_count": 28,
     "metadata": {},
     "output_type": "execute_result"
    }
   ],
   "source": [
    "# We want this to be as big as possible.\n",
    "tpr = tp / (tp + fn) # Is the same as recall\n",
    "tpr"
   ]
  },
  {
   "cell_type": "code",
   "execution_count": 29,
   "metadata": {},
   "outputs": [
    {
     "data": {
      "text/plain": [
       "np.float64(0.09872922776148582)"
      ]
     },
     "execution_count": 29,
     "metadata": {},
     "output_type": "execute_result"
    }
   ],
   "source": [
    "# we want this to be as small as possible, right now its almost 10%\n",
    "fpr = fp / (tn + fp)\n",
    "fpr"
   ]
  },
  {
   "cell_type": "code",
   "execution_count": 30,
   "metadata": {},
   "outputs": [],
   "source": [
    "# Instead of evaluating this two values for one threshold (0.5) but we want to evaluate it for multiple thresholds\n",
    "thresholds = np.linspace(0, 1, 101)\n",
    "\n",
    "scores = []\n",
    "\n",
    "for t in thresholds:\n",
    "    actual_positive = (y_val == 1)\n",
    "    actual_negative = (y_val == 0)\n",
    "\n",
    "    predict_positive = (y_pred >= t)\n",
    "    predict_negative = (y_pred < t)\n",
    "\n",
    "    tp = (predict_positive & actual_positive).sum()\n",
    "    tn = (predict_negative & actual_negative).sum()\n",
    "\n",
    "    fp = (predict_positive & actual_negative).sum()\n",
    "    fn = (predict_negative & actual_positive).sum()\n",
    "\n",
    "    scores.append((t, tp, fp, fn, tn))"
   ]
  },
  {
   "cell_type": "code",
   "execution_count": 31,
   "metadata": {},
   "outputs": [
    {
     "data": {
      "text/plain": [
       "[(np.float64(0.0), np.int64(386), np.int64(1023), np.int64(0), np.int64(0)),\n",
       " (np.float64(0.01), np.int64(385), np.int64(913), np.int64(1), np.int64(110)),\n",
       " (np.float64(0.02), np.int64(384), np.int64(830), np.int64(2), np.int64(193)),\n",
       " (np.float64(0.03), np.int64(383), np.int64(766), np.int64(3), np.int64(257)),\n",
       " (np.float64(0.04), np.int64(381), np.int64(715), np.int64(5), np.int64(308)),\n",
       " (np.float64(0.05), np.int64(379), np.int64(685), np.int64(7), np.int64(338)),\n",
       " (np.float64(0.06), np.int64(377), np.int64(661), np.int64(9), np.int64(362)),\n",
       " (np.float64(0.07), np.int64(372), np.int64(641), np.int64(14), np.int64(382)),\n",
       " (np.float64(0.08), np.int64(371), np.int64(613), np.int64(15), np.int64(410)),\n",
       " (np.float64(0.09), np.int64(369), np.int64(580), np.int64(17), np.int64(443)),\n",
       " (np.float64(0.1), np.int64(366), np.int64(556), np.int64(20), np.int64(467)),\n",
       " (np.float64(0.11), np.int64(365), np.int64(528), np.int64(21), np.int64(495)),\n",
       " (np.float64(0.12), np.int64(365), np.int64(509), np.int64(21), np.int64(514)),\n",
       " (np.float64(0.13), np.int64(360), np.int64(477), np.int64(26), np.int64(546)),\n",
       " (np.float64(0.14), np.int64(355), np.int64(453), np.int64(31), np.int64(570)),\n",
       " (np.float64(0.15), np.int64(351), np.int64(435), np.int64(35), np.int64(588)),\n",
       " (np.float64(0.16), np.int64(347), np.int64(419), np.int64(39), np.int64(604)),\n",
       " (np.float64(0.17), np.int64(346), np.int64(401), np.int64(40), np.int64(622)),\n",
       " (np.float64(0.18), np.int64(344), np.int64(384), np.int64(42), np.int64(639)),\n",
       " (np.float64(0.19), np.int64(338), np.int64(369), np.int64(48), np.int64(654)),\n",
       " (np.float64(0.2), np.int64(333), np.int64(356), np.int64(53), np.int64(667)),\n",
       " (np.float64(0.21), np.int64(330), np.int64(341), np.int64(56), np.int64(682)),\n",
       " (np.float64(0.22), np.int64(323), np.int64(322), np.int64(63), np.int64(701)),\n",
       " (np.float64(0.23), np.int64(320), np.int64(313), np.int64(66), np.int64(710)),\n",
       " (np.float64(0.24), np.int64(316), np.int64(304), np.int64(70), np.int64(719)),\n",
       " (np.float64(0.25), np.int64(309), np.int64(291), np.int64(77), np.int64(732)),\n",
       " (np.float64(0.26), np.int64(304), np.int64(281), np.int64(82), np.int64(742)),\n",
       " (np.float64(0.27), np.int64(303), np.int64(270), np.int64(83), np.int64(753)),\n",
       " (np.float64(0.28), np.int64(295), np.int64(256), np.int64(91), np.int64(767)),\n",
       " (np.float64(0.29), np.int64(291), np.int64(244), np.int64(95), np.int64(779)),\n",
       " (np.float64(0.3), np.int64(284), np.int64(236), np.int64(102), np.int64(787)),\n",
       " (np.float64(0.31),\n",
       "  np.int64(280),\n",
       "  np.int64(230),\n",
       "  np.int64(106),\n",
       "  np.int64(793)),\n",
       " (np.float64(0.32),\n",
       "  np.int64(278),\n",
       "  np.int64(226),\n",
       "  np.int64(108),\n",
       "  np.int64(797)),\n",
       " (np.float64(0.33),\n",
       "  np.int64(276),\n",
       "  np.int64(221),\n",
       "  np.int64(110),\n",
       "  np.int64(802)),\n",
       " (np.float64(0.34),\n",
       "  np.int64(274),\n",
       "  np.int64(212),\n",
       "  np.int64(112),\n",
       "  np.int64(811)),\n",
       " (np.float64(0.35000000000000003),\n",
       "  np.int64(272),\n",
       "  np.int64(207),\n",
       "  np.int64(114),\n",
       "  np.int64(816)),\n",
       " (np.float64(0.36),\n",
       "  np.int64(267),\n",
       "  np.int64(201),\n",
       "  np.int64(119),\n",
       "  np.int64(822)),\n",
       " (np.float64(0.37),\n",
       "  np.int64(265),\n",
       "  np.int64(197),\n",
       "  np.int64(121),\n",
       "  np.int64(826)),\n",
       " (np.float64(0.38),\n",
       "  np.int64(260),\n",
       "  np.int64(185),\n",
       "  np.int64(126),\n",
       "  np.int64(838)),\n",
       " (np.float64(0.39),\n",
       "  np.int64(252),\n",
       "  np.int64(178),\n",
       "  np.int64(134),\n",
       "  np.int64(845)),\n",
       " (np.float64(0.4), np.int64(249), np.int64(166), np.int64(137), np.int64(857)),\n",
       " (np.float64(0.41000000000000003),\n",
       "  np.int64(246),\n",
       "  np.int64(159),\n",
       "  np.int64(140),\n",
       "  np.int64(864)),\n",
       " (np.float64(0.42),\n",
       "  np.int64(243),\n",
       "  np.int64(157),\n",
       "  np.int64(143),\n",
       "  np.int64(866)),\n",
       " (np.float64(0.43),\n",
       "  np.int64(241),\n",
       "  np.int64(150),\n",
       "  np.int64(145),\n",
       "  np.int64(873)),\n",
       " (np.float64(0.44),\n",
       "  np.int64(234),\n",
       "  np.int64(147),\n",
       "  np.int64(152),\n",
       "  np.int64(876)),\n",
       " (np.float64(0.45),\n",
       "  np.int64(229),\n",
       "  np.int64(135),\n",
       "  np.int64(157),\n",
       "  np.int64(888)),\n",
       " (np.float64(0.46),\n",
       "  np.int64(224),\n",
       "  np.int64(125),\n",
       "  np.int64(162),\n",
       "  np.int64(898)),\n",
       " (np.float64(0.47000000000000003),\n",
       "  np.int64(218),\n",
       "  np.int64(120),\n",
       "  np.int64(168),\n",
       "  np.int64(903)),\n",
       " (np.float64(0.48),\n",
       "  np.int64(217),\n",
       "  np.int64(114),\n",
       "  np.int64(169),\n",
       "  np.int64(909)),\n",
       " (np.float64(0.49),\n",
       "  np.int64(213),\n",
       "  np.int64(110),\n",
       "  np.int64(173),\n",
       "  np.int64(913)),\n",
       " (np.float64(0.5), np.int64(210), np.int64(101), np.int64(176), np.int64(922)),\n",
       " (np.float64(0.51), np.int64(207), np.int64(99), np.int64(179), np.int64(924)),\n",
       " (np.float64(0.52), np.int64(204), np.int64(93), np.int64(182), np.int64(930)),\n",
       " (np.float64(0.53), np.int64(196), np.int64(91), np.int64(190), np.int64(932)),\n",
       " (np.float64(0.54), np.int64(194), np.int64(86), np.int64(192), np.int64(937)),\n",
       " (np.float64(0.55), np.int64(185), np.int64(79), np.int64(201), np.int64(944)),\n",
       " (np.float64(0.56), np.int64(182), np.int64(76), np.int64(204), np.int64(947)),\n",
       " (np.float64(0.5700000000000001),\n",
       "  np.int64(176),\n",
       "  np.int64(67),\n",
       "  np.int64(210),\n",
       "  np.int64(956)),\n",
       " (np.float64(0.58), np.int64(171), np.int64(61), np.int64(215), np.int64(962)),\n",
       " (np.float64(0.59), np.int64(163), np.int64(59), np.int64(223), np.int64(964)),\n",
       " (np.float64(0.6), np.int64(150), np.int64(53), np.int64(236), np.int64(970)),\n",
       " (np.float64(0.61), np.int64(145), np.int64(49), np.int64(241), np.int64(974)),\n",
       " (np.float64(0.62), np.int64(141), np.int64(46), np.int64(245), np.int64(977)),\n",
       " (np.float64(0.63), np.int64(133), np.int64(40), np.int64(253), np.int64(983)),\n",
       " (np.float64(0.64), np.int64(125), np.int64(37), np.int64(261), np.int64(986)),\n",
       " (np.float64(0.65), np.int64(119), np.int64(34), np.int64(267), np.int64(989)),\n",
       " (np.float64(0.66), np.int64(114), np.int64(31), np.int64(272), np.int64(992)),\n",
       " (np.float64(0.67), np.int64(105), np.int64(29), np.int64(281), np.int64(994)),\n",
       " (np.float64(0.68), np.int64(94), np.int64(26), np.int64(292), np.int64(997)),\n",
       " (np.float64(0.6900000000000001),\n",
       "  np.int64(88),\n",
       "  np.int64(25),\n",
       "  np.int64(298),\n",
       "  np.int64(998)),\n",
       " (np.float64(0.7000000000000001),\n",
       "  np.int64(76),\n",
       "  np.int64(20),\n",
       "  np.int64(310),\n",
       "  np.int64(1003)),\n",
       " (np.float64(0.71), np.int64(63), np.int64(14), np.int64(323), np.int64(1009)),\n",
       " (np.float64(0.72), np.int64(57), np.int64(11), np.int64(329), np.int64(1012)),\n",
       " (np.float64(0.73), np.int64(47), np.int64(9), np.int64(339), np.int64(1014)),\n",
       " (np.float64(0.74), np.int64(41), np.int64(8), np.int64(345), np.int64(1015)),\n",
       " (np.float64(0.75), np.int64(33), np.int64(7), np.int64(353), np.int64(1016)),\n",
       " (np.float64(0.76), np.int64(30), np.int64(6), np.int64(356), np.int64(1017)),\n",
       " (np.float64(0.77), np.int64(25), np.int64(5), np.int64(361), np.int64(1018)),\n",
       " (np.float64(0.78), np.int64(19), np.int64(3), np.int64(367), np.int64(1020)),\n",
       " (np.float64(0.79), np.int64(15), np.int64(2), np.int64(371), np.int64(1021)),\n",
       " (np.float64(0.8), np.int64(13), np.int64(1), np.int64(373), np.int64(1022)),\n",
       " (np.float64(0.81), np.int64(6), np.int64(0), np.int64(380), np.int64(1023)),\n",
       " (np.float64(0.8200000000000001),\n",
       "  np.int64(5),\n",
       "  np.int64(0),\n",
       "  np.int64(381),\n",
       "  np.int64(1023)),\n",
       " (np.float64(0.8300000000000001),\n",
       "  np.int64(3),\n",
       "  np.int64(0),\n",
       "  np.int64(383),\n",
       "  np.int64(1023)),\n",
       " (np.float64(0.84), np.int64(0), np.int64(0), np.int64(386), np.int64(1023)),\n",
       " (np.float64(0.85), np.int64(0), np.int64(0), np.int64(386), np.int64(1023)),\n",
       " (np.float64(0.86), np.int64(0), np.int64(0), np.int64(386), np.int64(1023)),\n",
       " (np.float64(0.87), np.int64(0), np.int64(0), np.int64(386), np.int64(1023)),\n",
       " (np.float64(0.88), np.int64(0), np.int64(0), np.int64(386), np.int64(1023)),\n",
       " (np.float64(0.89), np.int64(0), np.int64(0), np.int64(386), np.int64(1023)),\n",
       " (np.float64(0.9), np.int64(0), np.int64(0), np.int64(386), np.int64(1023)),\n",
       " (np.float64(0.91), np.int64(0), np.int64(0), np.int64(386), np.int64(1023)),\n",
       " (np.float64(0.92), np.int64(0), np.int64(0), np.int64(386), np.int64(1023)),\n",
       " (np.float64(0.93), np.int64(0), np.int64(0), np.int64(386), np.int64(1023)),\n",
       " (np.float64(0.9400000000000001),\n",
       "  np.int64(0),\n",
       "  np.int64(0),\n",
       "  np.int64(386),\n",
       "  np.int64(1023)),\n",
       " (np.float64(0.9500000000000001),\n",
       "  np.int64(0),\n",
       "  np.int64(0),\n",
       "  np.int64(386),\n",
       "  np.int64(1023)),\n",
       " (np.float64(0.96), np.int64(0), np.int64(0), np.int64(386), np.int64(1023)),\n",
       " (np.float64(0.97), np.int64(0), np.int64(0), np.int64(386), np.int64(1023)),\n",
       " (np.float64(0.98), np.int64(0), np.int64(0), np.int64(386), np.int64(1023)),\n",
       " (np.float64(0.99), np.int64(0), np.int64(0), np.int64(386), np.int64(1023)),\n",
       " (np.float64(1.0), np.int64(0), np.int64(0), np.int64(386), np.int64(1023))]"
      ]
     },
     "execution_count": 31,
     "metadata": {},
     "output_type": "execute_result"
    }
   ],
   "source": [
    "scores"
   ]
  },
  {
   "cell_type": "code",
   "execution_count": 34,
   "metadata": {},
   "outputs": [
    {
     "data": {
      "text/html": [
       "<div>\n",
       "<style scoped>\n",
       "    .dataframe tbody tr th:only-of-type {\n",
       "        vertical-align: middle;\n",
       "    }\n",
       "\n",
       "    .dataframe tbody tr th {\n",
       "        vertical-align: top;\n",
       "    }\n",
       "\n",
       "    .dataframe thead th {\n",
       "        text-align: right;\n",
       "    }\n",
       "</style>\n",
       "<table border=\"1\" class=\"dataframe\">\n",
       "  <thead>\n",
       "    <tr style=\"text-align: right;\">\n",
       "      <th></th>\n",
       "      <th>threshold</th>\n",
       "      <th>tp</th>\n",
       "      <th>fp</th>\n",
       "      <th>fn</th>\n",
       "      <th>tn</th>\n",
       "    </tr>\n",
       "  </thead>\n",
       "  <tbody>\n",
       "    <tr>\n",
       "      <th>0</th>\n",
       "      <td>0.0</td>\n",
       "      <td>386</td>\n",
       "      <td>1023</td>\n",
       "      <td>0</td>\n",
       "      <td>0</td>\n",
       "    </tr>\n",
       "    <tr>\n",
       "      <th>10</th>\n",
       "      <td>0.1</td>\n",
       "      <td>366</td>\n",
       "      <td>556</td>\n",
       "      <td>20</td>\n",
       "      <td>467</td>\n",
       "    </tr>\n",
       "    <tr>\n",
       "      <th>20</th>\n",
       "      <td>0.2</td>\n",
       "      <td>333</td>\n",
       "      <td>356</td>\n",
       "      <td>53</td>\n",
       "      <td>667</td>\n",
       "    </tr>\n",
       "    <tr>\n",
       "      <th>30</th>\n",
       "      <td>0.3</td>\n",
       "      <td>284</td>\n",
       "      <td>236</td>\n",
       "      <td>102</td>\n",
       "      <td>787</td>\n",
       "    </tr>\n",
       "    <tr>\n",
       "      <th>40</th>\n",
       "      <td>0.4</td>\n",
       "      <td>249</td>\n",
       "      <td>166</td>\n",
       "      <td>137</td>\n",
       "      <td>857</td>\n",
       "    </tr>\n",
       "    <tr>\n",
       "      <th>50</th>\n",
       "      <td>0.5</td>\n",
       "      <td>210</td>\n",
       "      <td>101</td>\n",
       "      <td>176</td>\n",
       "      <td>922</td>\n",
       "    </tr>\n",
       "    <tr>\n",
       "      <th>60</th>\n",
       "      <td>0.6</td>\n",
       "      <td>150</td>\n",
       "      <td>53</td>\n",
       "      <td>236</td>\n",
       "      <td>970</td>\n",
       "    </tr>\n",
       "    <tr>\n",
       "      <th>70</th>\n",
       "      <td>0.7</td>\n",
       "      <td>76</td>\n",
       "      <td>20</td>\n",
       "      <td>310</td>\n",
       "      <td>1003</td>\n",
       "    </tr>\n",
       "    <tr>\n",
       "      <th>80</th>\n",
       "      <td>0.8</td>\n",
       "      <td>13</td>\n",
       "      <td>1</td>\n",
       "      <td>373</td>\n",
       "      <td>1022</td>\n",
       "    </tr>\n",
       "    <tr>\n",
       "      <th>90</th>\n",
       "      <td>0.9</td>\n",
       "      <td>0</td>\n",
       "      <td>0</td>\n",
       "      <td>386</td>\n",
       "      <td>1023</td>\n",
       "    </tr>\n",
       "    <tr>\n",
       "      <th>100</th>\n",
       "      <td>1.0</td>\n",
       "      <td>0</td>\n",
       "      <td>0</td>\n",
       "      <td>386</td>\n",
       "      <td>1023</td>\n",
       "    </tr>\n",
       "  </tbody>\n",
       "</table>\n",
       "</div>"
      ],
      "text/plain": [
       "     threshold   tp    fp   fn    tn\n",
       "0          0.0  386  1023    0     0\n",
       "10         0.1  366   556   20   467\n",
       "20         0.2  333   356   53   667\n",
       "30         0.3  284   236  102   787\n",
       "40         0.4  249   166  137   857\n",
       "50         0.5  210   101  176   922\n",
       "60         0.6  150    53  236   970\n",
       "70         0.7   76    20  310  1003\n",
       "80         0.8   13     1  373  1022\n",
       "90         0.9    0     0  386  1023\n",
       "100        1.0    0     0  386  1023"
      ]
     },
     "execution_count": 34,
     "metadata": {},
     "output_type": "execute_result"
    }
   ],
   "source": [
    "# We want to turn the scores into a DAtaFrame\n",
    "columns = ['threshold', 'tp', 'fp', 'fn', 'tn']\n",
    "df_scores = pd.DataFrame(scores, columns=columns)\n",
    "df_scores[::10]"
   ]
  },
  {
   "cell_type": "code",
   "execution_count": 36,
   "metadata": {},
   "outputs": [
    {
     "data": {
      "text/html": [
       "<div>\n",
       "<style scoped>\n",
       "    .dataframe tbody tr th:only-of-type {\n",
       "        vertical-align: middle;\n",
       "    }\n",
       "\n",
       "    .dataframe tbody tr th {\n",
       "        vertical-align: top;\n",
       "    }\n",
       "\n",
       "    .dataframe thead th {\n",
       "        text-align: right;\n",
       "    }\n",
       "</style>\n",
       "<table border=\"1\" class=\"dataframe\">\n",
       "  <thead>\n",
       "    <tr style=\"text-align: right;\">\n",
       "      <th></th>\n",
       "      <th>threshold</th>\n",
       "      <th>tp</th>\n",
       "      <th>fp</th>\n",
       "      <th>fn</th>\n",
       "      <th>tn</th>\n",
       "      <th>tpr</th>\n",
       "      <th>fpr</th>\n",
       "    </tr>\n",
       "  </thead>\n",
       "  <tbody>\n",
       "    <tr>\n",
       "      <th>0</th>\n",
       "      <td>0.0</td>\n",
       "      <td>386</td>\n",
       "      <td>1023</td>\n",
       "      <td>0</td>\n",
       "      <td>0</td>\n",
       "      <td>1.000000</td>\n",
       "      <td>1.000000</td>\n",
       "    </tr>\n",
       "    <tr>\n",
       "      <th>10</th>\n",
       "      <td>0.1</td>\n",
       "      <td>366</td>\n",
       "      <td>556</td>\n",
       "      <td>20</td>\n",
       "      <td>467</td>\n",
       "      <td>0.948187</td>\n",
       "      <td>0.543500</td>\n",
       "    </tr>\n",
       "    <tr>\n",
       "      <th>20</th>\n",
       "      <td>0.2</td>\n",
       "      <td>333</td>\n",
       "      <td>356</td>\n",
       "      <td>53</td>\n",
       "      <td>667</td>\n",
       "      <td>0.862694</td>\n",
       "      <td>0.347996</td>\n",
       "    </tr>\n",
       "    <tr>\n",
       "      <th>30</th>\n",
       "      <td>0.3</td>\n",
       "      <td>284</td>\n",
       "      <td>236</td>\n",
       "      <td>102</td>\n",
       "      <td>787</td>\n",
       "      <td>0.735751</td>\n",
       "      <td>0.230694</td>\n",
       "    </tr>\n",
       "    <tr>\n",
       "      <th>40</th>\n",
       "      <td>0.4</td>\n",
       "      <td>249</td>\n",
       "      <td>166</td>\n",
       "      <td>137</td>\n",
       "      <td>857</td>\n",
       "      <td>0.645078</td>\n",
       "      <td>0.162268</td>\n",
       "    </tr>\n",
       "    <tr>\n",
       "      <th>50</th>\n",
       "      <td>0.5</td>\n",
       "      <td>210</td>\n",
       "      <td>101</td>\n",
       "      <td>176</td>\n",
       "      <td>922</td>\n",
       "      <td>0.544041</td>\n",
       "      <td>0.098729</td>\n",
       "    </tr>\n",
       "    <tr>\n",
       "      <th>60</th>\n",
       "      <td>0.6</td>\n",
       "      <td>150</td>\n",
       "      <td>53</td>\n",
       "      <td>236</td>\n",
       "      <td>970</td>\n",
       "      <td>0.388601</td>\n",
       "      <td>0.051808</td>\n",
       "    </tr>\n",
       "    <tr>\n",
       "      <th>70</th>\n",
       "      <td>0.7</td>\n",
       "      <td>76</td>\n",
       "      <td>20</td>\n",
       "      <td>310</td>\n",
       "      <td>1003</td>\n",
       "      <td>0.196891</td>\n",
       "      <td>0.019550</td>\n",
       "    </tr>\n",
       "    <tr>\n",
       "      <th>80</th>\n",
       "      <td>0.8</td>\n",
       "      <td>13</td>\n",
       "      <td>1</td>\n",
       "      <td>373</td>\n",
       "      <td>1022</td>\n",
       "      <td>0.033679</td>\n",
       "      <td>0.000978</td>\n",
       "    </tr>\n",
       "    <tr>\n",
       "      <th>90</th>\n",
       "      <td>0.9</td>\n",
       "      <td>0</td>\n",
       "      <td>0</td>\n",
       "      <td>386</td>\n",
       "      <td>1023</td>\n",
       "      <td>0.000000</td>\n",
       "      <td>0.000000</td>\n",
       "    </tr>\n",
       "    <tr>\n",
       "      <th>100</th>\n",
       "      <td>1.0</td>\n",
       "      <td>0</td>\n",
       "      <td>0</td>\n",
       "      <td>386</td>\n",
       "      <td>1023</td>\n",
       "      <td>0.000000</td>\n",
       "      <td>0.000000</td>\n",
       "    </tr>\n",
       "  </tbody>\n",
       "</table>\n",
       "</div>"
      ],
      "text/plain": [
       "     threshold   tp    fp   fn    tn       tpr       fpr\n",
       "0          0.0  386  1023    0     0  1.000000  1.000000\n",
       "10         0.1  366   556   20   467  0.948187  0.543500\n",
       "20         0.2  333   356   53   667  0.862694  0.347996\n",
       "30         0.3  284   236  102   787  0.735751  0.230694\n",
       "40         0.4  249   166  137   857  0.645078  0.162268\n",
       "50         0.5  210   101  176   922  0.544041  0.098729\n",
       "60         0.6  150    53  236   970  0.388601  0.051808\n",
       "70         0.7   76    20  310  1003  0.196891  0.019550\n",
       "80         0.8   13     1  373  1022  0.033679  0.000978\n",
       "90         0.9    0     0  386  1023  0.000000  0.000000\n",
       "100        1.0    0     0  386  1023  0.000000  0.000000"
      ]
     },
     "execution_count": 36,
     "metadata": {},
     "output_type": "execute_result"
    }
   ],
   "source": [
    "df_scores['tpr'] = df_scores.tp / (df_scores.tp + df_scores.fn)\n",
    "df_scores['fpr'] = df_scores.fp / (df_scores.tn + df_scores.fp)\n",
    "df_scores[::10]\n"
   ]
  },
  {
   "cell_type": "code",
   "execution_count": 40,
   "metadata": {},
   "outputs": [
    {
     "data": {
      "text/plain": [
       "<matplotlib.legend.Legend at 0x132602390>"
      ]
     },
     "execution_count": 40,
     "metadata": {},
     "output_type": "execute_result"
    },
    {
     "data": {
      "image/png": "[encoded data removed]",
      "text/plain": [
       "<Figure size 640x480 with 1 Axes>"
      ]
     },
     "metadata": {},
     "output_type": "display_data"
    }
   ],
   "source": [
    "plt.plot(df_scores.threshold, df_scores.tpr, label='TPR') # This should be as big as possible\n",
    "plt.plot(df_scores.threshold, df_scores.fpr, label='FPR') # This shold be as small as possible\n",
    "plt.legend()"
   ]
  },
  {
   "cell_type": "markdown",
   "metadata": {},
   "source": [
    "### Random model\n",
    "\n",
    "Looking at the graph above doesn't give us enough insights because we don't have someting to compare against. \n",
    "\n",
    "So we want to do now is to have a baseline and for us it will be a random model."
   ]
  },
  {
   "cell_type": "code",
   "execution_count": 42,
   "metadata": {},
   "outputs": [],
   "source": [
    "np.random.seed(1)\n",
    "y_rand = np.random.uniform(0, 1, size=len(y_val))"
   ]
  },
  {
   "cell_type": "code",
   "execution_count": 43,
   "metadata": {},
   "outputs": [
    {
     "data": {
      "text/plain": [
       "np.float64(0.5017743080198722)"
      ]
     },
     "execution_count": 43,
     "metadata": {},
     "output_type": "execute_result"
    }
   ],
   "source": [
    "((y_rand >= 0.5) == y_val).mean() # Accuracy for a random model is quite low (50%)"
   ]
  },
  {
   "cell_type": "code",
   "execution_count": 44,
   "metadata": {},
   "outputs": [],
   "source": [
    "def tpr_fpr_dataframe(y_val, y_pred):\n",
    "    thresholds = np.linspace(0, 1, 101)\n",
    "\n",
    "    scores = []\n",
    "\n",
    "    for t in thresholds:\n",
    "        actual_positive = (y_val == 1)\n",
    "        actual_negative = (y_val == 0)\n",
    "\n",
    "        predict_positive = (y_pred >= t)\n",
    "        predict_negative = (y_pred < t)\n",
    "\n",
    "        tp = (predict_positive & actual_positive).sum()\n",
    "        tn = (predict_negative & actual_negative).sum()\n",
    "\n",
    "        fp = (predict_positive & actual_negative).sum()\n",
    "        fn = (predict_negative & actual_positive).sum()\n",
    "\n",
    "        scores.append((t, tp, fp, fn, tn))\n",
    "\n",
    "    columns = ['threshold', 'tp', 'fp', 'fn', 'tn']\n",
    "    df_scores = pd.DataFrame(scores, columns=columns)\n",
    "\n",
    "    df_scores['tpr'] = df_scores.tp / (df_scores.tp + df_scores.fn)\n",
    "    df_scores['fpr'] = df_scores.fp / (df_scores.tn + df_scores.fp)\n",
    "\n",
    "    return df_scores"
   ]
  },
  {
   "cell_type": "code",
   "execution_count": 46,
   "metadata": {},
   "outputs": [
    {
     "data": {
      "text/html": [
       "<div>\n",
       "<style scoped>\n",
       "    .dataframe tbody tr th:only-of-type {\n",
       "        vertical-align: middle;\n",
       "    }\n",
       "\n",
       "    .dataframe tbody tr th {\n",
       "        vertical-align: top;\n",
       "    }\n",
       "\n",
       "    .dataframe thead th {\n",
       "        text-align: right;\n",
       "    }\n",
       "</style>\n",
       "<table border=\"1\" class=\"dataframe\">\n",
       "  <thead>\n",
       "    <tr style=\"text-align: right;\">\n",
       "      <th></th>\n",
       "      <th>threshold</th>\n",
       "      <th>tp</th>\n",
       "      <th>fp</th>\n",
       "      <th>fn</th>\n",
       "      <th>tn</th>\n",
       "      <th>tpr</th>\n",
       "      <th>fpr</th>\n",
       "    </tr>\n",
       "  </thead>\n",
       "  <tbody>\n",
       "    <tr>\n",
       "      <th>0</th>\n",
       "      <td>0.0</td>\n",
       "      <td>386</td>\n",
       "      <td>1023</td>\n",
       "      <td>0</td>\n",
       "      <td>0</td>\n",
       "      <td>1.000000</td>\n",
       "      <td>1.000000</td>\n",
       "    </tr>\n",
       "    <tr>\n",
       "      <th>10</th>\n",
       "      <td>0.1</td>\n",
       "      <td>347</td>\n",
       "      <td>923</td>\n",
       "      <td>39</td>\n",
       "      <td>100</td>\n",
       "      <td>0.898964</td>\n",
       "      <td>0.902248</td>\n",
       "    </tr>\n",
       "    <tr>\n",
       "      <th>20</th>\n",
       "      <td>0.2</td>\n",
       "      <td>307</td>\n",
       "      <td>822</td>\n",
       "      <td>79</td>\n",
       "      <td>201</td>\n",
       "      <td>0.795337</td>\n",
       "      <td>0.803519</td>\n",
       "    </tr>\n",
       "    <tr>\n",
       "      <th>30</th>\n",
       "      <td>0.3</td>\n",
       "      <td>276</td>\n",
       "      <td>724</td>\n",
       "      <td>110</td>\n",
       "      <td>299</td>\n",
       "      <td>0.715026</td>\n",
       "      <td>0.707722</td>\n",
       "    </tr>\n",
       "    <tr>\n",
       "      <th>40</th>\n",
       "      <td>0.4</td>\n",
       "      <td>237</td>\n",
       "      <td>624</td>\n",
       "      <td>149</td>\n",
       "      <td>399</td>\n",
       "      <td>0.613990</td>\n",
       "      <td>0.609971</td>\n",
       "    </tr>\n",
       "    <tr>\n",
       "      <th>50</th>\n",
       "      <td>0.5</td>\n",
       "      <td>202</td>\n",
       "      <td>518</td>\n",
       "      <td>184</td>\n",
       "      <td>505</td>\n",
       "      <td>0.523316</td>\n",
       "      <td>0.506354</td>\n",
       "    </tr>\n",
       "    <tr>\n",
       "      <th>60</th>\n",
       "      <td>0.6</td>\n",
       "      <td>161</td>\n",
       "      <td>409</td>\n",
       "      <td>225</td>\n",
       "      <td>614</td>\n",
       "      <td>0.417098</td>\n",
       "      <td>0.399804</td>\n",
       "    </tr>\n",
       "    <tr>\n",
       "      <th>70</th>\n",
       "      <td>0.7</td>\n",
       "      <td>121</td>\n",
       "      <td>302</td>\n",
       "      <td>265</td>\n",
       "      <td>721</td>\n",
       "      <td>0.313472</td>\n",
       "      <td>0.295210</td>\n",
       "    </tr>\n",
       "    <tr>\n",
       "      <th>80</th>\n",
       "      <td>0.8</td>\n",
       "      <td>78</td>\n",
       "      <td>206</td>\n",
       "      <td>308</td>\n",
       "      <td>817</td>\n",
       "      <td>0.202073</td>\n",
       "      <td>0.201369</td>\n",
       "    </tr>\n",
       "    <tr>\n",
       "      <th>90</th>\n",
       "      <td>0.9</td>\n",
       "      <td>40</td>\n",
       "      <td>101</td>\n",
       "      <td>346</td>\n",
       "      <td>922</td>\n",
       "      <td>0.103627</td>\n",
       "      <td>0.098729</td>\n",
       "    </tr>\n",
       "    <tr>\n",
       "      <th>100</th>\n",
       "      <td>1.0</td>\n",
       "      <td>0</td>\n",
       "      <td>0</td>\n",
       "      <td>386</td>\n",
       "      <td>1023</td>\n",
       "      <td>0.000000</td>\n",
       "      <td>0.000000</td>\n",
       "    </tr>\n",
       "  </tbody>\n",
       "</table>\n",
       "</div>"
      ],
      "text/plain": [
       "     threshold   tp    fp   fn    tn       tpr       fpr\n",
       "0          0.0  386  1023    0     0  1.000000  1.000000\n",
       "10         0.1  347   923   39   100  0.898964  0.902248\n",
       "20         0.2  307   822   79   201  0.795337  0.803519\n",
       "30         0.3  276   724  110   299  0.715026  0.707722\n",
       "40         0.4  237   624  149   399  0.613990  0.609971\n",
       "50         0.5  202   518  184   505  0.523316  0.506354\n",
       "60         0.6  161   409  225   614  0.417098  0.399804\n",
       "70         0.7  121   302  265   721  0.313472  0.295210\n",
       "80         0.8   78   206  308   817  0.202073  0.201369\n",
       "90         0.9   40   101  346   922  0.103627  0.098729\n",
       "100        1.0    0     0  386  1023  0.000000  0.000000"
      ]
     },
     "execution_count": 46,
     "metadata": {},
     "output_type": "execute_result"
    }
   ],
   "source": [
    "df_rand = tpr_fpr_dataframe(y_val, y_rand)\n",
    "df_rand[::10]"
   ]
  },
  {
   "cell_type": "code",
   "execution_count": 47,
   "metadata": {},
   "outputs": [
    {
     "data": {
      "text/plain": [
       "<matplotlib.legend.Legend at 0x132b280b0>"
      ]
     },
     "execution_count": 47,
     "metadata": {},
     "output_type": "execute_result"
    },
    {
     "data": {
      "image/png": "[encoded data removed]",
      "text/plain": [
       "<Figure size 640x480 with 1 Axes>"
      ]
     },
     "metadata": {},
     "output_type": "display_data"
    }
   ],
   "source": [
    "plt.plot(df_rand.threshold, df_rand.tpr, label='TPR') # This should be as big as possible\n",
    "plt.plot(df_rand.threshold, df_rand.fpr, label='FPR') # This shold be as small as possible\n",
    "plt.legend()"
   ]
  },
  {
   "cell_type": "markdown",
   "metadata": {},
   "source": [
    "### Ideal Model\n",
    "\n",
    "A model that outputs the correct prediction for everyone.\n",
    "\n",
    "We want to take all the predictions and order them from smalles to largest.\n",
    "\n",
    "The ideal model orders the customers in such a way that first we have all customers that are not churning (before the threshold) and then all the customers that are churning (after the threshold)."
   ]
  },
  {
   "cell_type": "code",
   "execution_count": 48,
   "metadata": {},
   "outputs": [
    {
     "data": {
      "text/plain": [
       "(np.int64(1023), np.int64(386))"
      ]
     },
     "execution_count": 48,
     "metadata": {},
     "output_type": "execute_result"
    }
   ],
   "source": [
    "num_neg = (y_val == 0).sum() # Number of customers that are not churning\n",
    "num_pos = (y_val == 1).sum() # Number of customers that are churning\n",
    "num_neg, num_pos"
   ]
  },
  {
   "cell_type": "code",
   "execution_count": 50,
   "metadata": {},
   "outputs": [
    {
     "data": {
      "text/plain": [
       "array([0, 0, 0, ..., 1, 1, 1])"
      ]
     },
     "execution_count": 50,
     "metadata": {},
     "output_type": "execute_result"
    }
   ],
   "source": [
    "y_ideal = np.repeat([0,1], [num_neg, num_pos]) # we have an array with 1023 zeros and 386 ones\n",
    "y_ideal # This is kind of our validation set in a way, we know everything is ordered here"
   ]
  },
  {
   "cell_type": "code",
   "execution_count": 51,
   "metadata": {},
   "outputs": [],
   "source": [
    "# We need to create our predictions and this are just numbers between 0 and 1\n",
    "y_ideal_pred = np.linspace(0, 1, len(y_val))"
   ]
  },
  {
   "cell_type": "code",
   "execution_count": 53,
   "metadata": {},
   "outputs": [
    {
     "data": {
      "text/plain": [
       "np.float64(0.7260468417317246)"
      ]
     },
     "execution_count": 53,
     "metadata": {},
     "output_type": "execute_result"
    }
   ],
   "source": [
    "1 - y_val.mean() # This is our ideal threshold"
   ]
  },
  {
   "cell_type": "code",
   "execution_count": 54,
   "metadata": {},
   "outputs": [
    {
     "data": {
      "text/plain": [
       "np.float64(1.0)"
      ]
     },
     "execution_count": 54,
     "metadata": {},
     "output_type": "execute_result"
    }
   ],
   "source": [
    "((y_ideal_pred >= 0.726) == y_ideal).mean() # This is the accuracy of the ideal model\n",
    "\n",
    "# This model doesn't exist in reality (it's impossible) but it allow us to benchmark our model against this one"
   ]
  },
  {
   "cell_type": "code",
   "execution_count": 55,
   "metadata": {},
   "outputs": [
    {
     "data": {
      "text/html": [
       "<div>\n",
       "<style scoped>\n",
       "    .dataframe tbody tr th:only-of-type {\n",
       "        vertical-align: middle;\n",
       "    }\n",
       "\n",
       "    .dataframe tbody tr th {\n",
       "        vertical-align: top;\n",
       "    }\n",
       "\n",
       "    .dataframe thead th {\n",
       "        text-align: right;\n",
       "    }\n",
       "</style>\n",
       "<table border=\"1\" class=\"dataframe\">\n",
       "  <thead>\n",
       "    <tr style=\"text-align: right;\">\n",
       "      <th></th>\n",
       "      <th>threshold</th>\n",
       "      <th>tp</th>\n",
       "      <th>fp</th>\n",
       "      <th>fn</th>\n",
       "      <th>tn</th>\n",
       "      <th>tpr</th>\n",
       "      <th>fpr</th>\n",
       "    </tr>\n",
       "  </thead>\n",
       "  <tbody>\n",
       "    <tr>\n",
       "      <th>0</th>\n",
       "      <td>0.0</td>\n",
       "      <td>386</td>\n",
       "      <td>1023</td>\n",
       "      <td>0</td>\n",
       "      <td>0</td>\n",
       "      <td>1.000000</td>\n",
       "      <td>1.000000</td>\n",
       "    </tr>\n",
       "    <tr>\n",
       "      <th>10</th>\n",
       "      <td>0.1</td>\n",
       "      <td>386</td>\n",
       "      <td>882</td>\n",
       "      <td>0</td>\n",
       "      <td>141</td>\n",
       "      <td>1.000000</td>\n",
       "      <td>0.862170</td>\n",
       "    </tr>\n",
       "    <tr>\n",
       "      <th>20</th>\n",
       "      <td>0.2</td>\n",
       "      <td>386</td>\n",
       "      <td>741</td>\n",
       "      <td>0</td>\n",
       "      <td>282</td>\n",
       "      <td>1.000000</td>\n",
       "      <td>0.724340</td>\n",
       "    </tr>\n",
       "    <tr>\n",
       "      <th>30</th>\n",
       "      <td>0.3</td>\n",
       "      <td>386</td>\n",
       "      <td>600</td>\n",
       "      <td>0</td>\n",
       "      <td>423</td>\n",
       "      <td>1.000000</td>\n",
       "      <td>0.586510</td>\n",
       "    </tr>\n",
       "    <tr>\n",
       "      <th>40</th>\n",
       "      <td>0.4</td>\n",
       "      <td>386</td>\n",
       "      <td>459</td>\n",
       "      <td>0</td>\n",
       "      <td>564</td>\n",
       "      <td>1.000000</td>\n",
       "      <td>0.448680</td>\n",
       "    </tr>\n",
       "    <tr>\n",
       "      <th>50</th>\n",
       "      <td>0.5</td>\n",
       "      <td>386</td>\n",
       "      <td>319</td>\n",
       "      <td>0</td>\n",
       "      <td>704</td>\n",
       "      <td>1.000000</td>\n",
       "      <td>0.311828</td>\n",
       "    </tr>\n",
       "    <tr>\n",
       "      <th>60</th>\n",
       "      <td>0.6</td>\n",
       "      <td>386</td>\n",
       "      <td>178</td>\n",
       "      <td>0</td>\n",
       "      <td>845</td>\n",
       "      <td>1.000000</td>\n",
       "      <td>0.173998</td>\n",
       "    </tr>\n",
       "    <tr>\n",
       "      <th>70</th>\n",
       "      <td>0.7</td>\n",
       "      <td>386</td>\n",
       "      <td>37</td>\n",
       "      <td>0</td>\n",
       "      <td>986</td>\n",
       "      <td>1.000000</td>\n",
       "      <td>0.036168</td>\n",
       "    </tr>\n",
       "    <tr>\n",
       "      <th>80</th>\n",
       "      <td>0.8</td>\n",
       "      <td>282</td>\n",
       "      <td>0</td>\n",
       "      <td>104</td>\n",
       "      <td>1023</td>\n",
       "      <td>0.730570</td>\n",
       "      <td>0.000000</td>\n",
       "    </tr>\n",
       "    <tr>\n",
       "      <th>90</th>\n",
       "      <td>0.9</td>\n",
       "      <td>141</td>\n",
       "      <td>0</td>\n",
       "      <td>245</td>\n",
       "      <td>1023</td>\n",
       "      <td>0.365285</td>\n",
       "      <td>0.000000</td>\n",
       "    </tr>\n",
       "    <tr>\n",
       "      <th>100</th>\n",
       "      <td>1.0</td>\n",
       "      <td>1</td>\n",
       "      <td>0</td>\n",
       "      <td>385</td>\n",
       "      <td>1023</td>\n",
       "      <td>0.002591</td>\n",
       "      <td>0.000000</td>\n",
       "    </tr>\n",
       "  </tbody>\n",
       "</table>\n",
       "</div>"
      ],
      "text/plain": [
       "     threshold   tp    fp   fn    tn       tpr       fpr\n",
       "0          0.0  386  1023    0     0  1.000000  1.000000\n",
       "10         0.1  386   882    0   141  1.000000  0.862170\n",
       "20         0.2  386   741    0   282  1.000000  0.724340\n",
       "30         0.3  386   600    0   423  1.000000  0.586510\n",
       "40         0.4  386   459    0   564  1.000000  0.448680\n",
       "50         0.5  386   319    0   704  1.000000  0.311828\n",
       "60         0.6  386   178    0   845  1.000000  0.173998\n",
       "70         0.7  386    37    0   986  1.000000  0.036168\n",
       "80         0.8  282     0  104  1023  0.730570  0.000000\n",
       "90         0.9  141     0  245  1023  0.365285  0.000000\n",
       "100        1.0    1     0  385  1023  0.002591  0.000000"
      ]
     },
     "execution_count": 55,
     "metadata": {},
     "output_type": "execute_result"
    }
   ],
   "source": [
    "# Let's do the same exercise we did for the random model\n",
    "df_ideal = tpr_fpr_dataframe(y_ideal, y_ideal_pred)\n",
    "df_ideal[::10]"
   ]
  },
  {
   "cell_type": "code",
   "execution_count": 56,
   "metadata": {},
   "outputs": [
    {
     "data": {
      "text/plain": [
       "<matplotlib.legend.Legend at 0x132afb020>"
      ]
     },
     "execution_count": 56,
     "metadata": {},
     "output_type": "execute_result"
    },
    {
     "data": {
      "image/png": "[encoded data removed]",
      "text/plain": [
       "<Figure size 640x480 with 1 Axes>"
      ]
     },
     "metadata": {},
     "output_type": "display_data"
    }
   ],
   "source": [
    "plt.plot(df_ideal.threshold, df_ideal.tpr, label='TPR') # This should be as big as possible\n",
    "plt.plot(df_ideal.threshold, df_ideal.fpr, label='FPR') # This shold be as small as possible\n",
    "plt.legend()"
   ]
  },
  {
   "cell_type": "markdown",
   "metadata": {},
   "source": [
    "### Putting it all together\n",
    "\n",
    "Try to plot all the benchmarks together"
   ]
  },
  {
   "cell_type": "code",
   "execution_count": 59,
   "metadata": {},
   "outputs": [
    {
     "data": {
      "text/plain": [
       "<matplotlib.legend.Legend at 0x132c59160>"
      ]
     },
     "execution_count": 59,
     "metadata": {},
     "output_type": "execute_result"
    },
    {
     "data": {
      "image/png": "[encoded data removed]",
      "text/plain": [
       "<Figure size 640x480 with 1 Axes>"
      ]
     },
     "metadata": {},
     "output_type": "display_data"
    }
   ],
   "source": [
    "# Our model\n",
    "plt.plot(df_scores.threshold, df_scores.tpr, label='TPR') \n",
    "plt.plot(df_scores.threshold, df_scores.fpr, label='FPR')\n",
    "\n",
    "# Random model\n",
    "# plt.plot(df_rand.threshold, df_rand.tpr, label='TPR') \n",
    "# plt.plot(df_rand.threshold, df_rand.fpr, label='FPR')\n",
    "\n",
    "# Ideal model\n",
    "plt.plot(df_ideal.threshold, df_ideal.tpr, label='TPR', color='black')\n",
    "plt.plot(df_ideal.threshold, df_ideal.fpr, label='FPR', color='black')\n",
    "\n",
    "plt.legend()"
   ]
  },
  {
   "cell_type": "code",
   "execution_count": 65,
   "metadata": {},
   "outputs": [
    {
     "data": {
      "text/plain": [
       "<matplotlib.legend.Legend at 0x1331f74d0>"
      ]
     },
     "execution_count": 65,
     "metadata": {},
     "output_type": "execute_result"
    },
    {
     "data": {
      "image/png": "[encoded data removed]",
      "text/plain": [
       "<Figure size 500x500 with 1 Axes>"
      ]
     },
     "metadata": {},
     "output_type": "display_data"
    }
   ],
   "source": [
    "plt.figure(figsize=(5, 5))\n",
    "\n",
    "plt.plot(df_scores.fpr, df_scores.tpr, label='model')\n",
    "plt.plot(df_rand.fpr, df_rand.tpr, label='random')\n",
    "plt.plot(df_ideal.fpr, df_ideal.tpr, label='ideal')\n",
    "\n",
    "plt.xlabel('FPR')\n",
    "plt.ylabel('TPR')\n",
    "\n",
    "plt.legend()"
   ]
  },
  {
   "cell_type": "code",
   "execution_count": 71,
   "metadata": {},
   "outputs": [
    {
     "data": {
      "text/plain": [
       "<matplotlib.legend.Legend at 0x132ffdf40>"
      ]
     },
     "execution_count": 71,
     "metadata": {},
     "output_type": "execute_result"
    },
    {
     "data": {
      "image/png": "[encoded data removed]",
      "text/plain": [
       "<Figure size 500x500 with 1 Axes>"
      ]
     },
     "metadata": {},
     "output_type": "display_data"
    }
   ],
   "source": [
    "\n",
    "plt.figure(figsize=(5, 5))\n",
    "\n",
    "plt.plot(df_scores.fpr, df_scores.tpr, label='model')\n",
    "# plt.plot(df_rand.fpr, df_rand.tpr, label='random')\n",
    "plt.plot([0, 1], [0, 1], label='random', linestyle='--')\n",
    "# plt.plot(df_ideal.fpr, df_ideal.tpr, label='ideal')\n",
    "plt.plot([0, 0, 1], [0, 1, 1], label='ideal')\n",
    "\n",
    "plt.xlabel('FPR')\n",
    "plt.ylabel('TPR')\n",
    "\n",
    "plt.legend()"
   ]
  },
  {
   "cell_type": "code",
   "execution_count": 72,
   "metadata": {},
   "outputs": [],
   "source": [
    "# And we can use scklearn for this...\n",
    "from sklearn.metrics import roc_curve"
   ]
  },
  {
   "cell_type": "code",
   "execution_count": 76,
   "metadata": {},
   "outputs": [
    {
     "data": {
      "text/plain": [
       "<matplotlib.legend.Legend at 0x134173dd0>"
      ]
     },
     "execution_count": 76,
     "metadata": {},
     "output_type": "execute_result"
    },
    {
     "data": {
      "image/png": "[encoded data removed]",
      "text/plain": [
       "<Figure size 500x500 with 1 Axes>"
      ]
     },
     "metadata": {},
     "output_type": "display_data"
    }
   ],
   "source": [
    "fpr, tpr, thresholds = roc_curve(y_val, y_pred)\n",
    "\n",
    "plt.figure(figsize=(5, 5))\n",
    "\n",
    "plt.plot(fpr, tpr, label='model')\n",
    "plt.plot([0, 1], [0, 1], label='random', linestyle='--')\n",
    "plt.plot([0, 0, 1], [0, 1, 1], label='ideal', linestyle='--')\n",
    "\n",
    "plt.xlabel('FPR')\n",
    "plt.ylabel('TPR')\n",
    "\n",
    "plt.legend()"
   ]
  }
 ],
 "metadata": {
  "kernelspec": {
   "display_name": "venv",
   "language": "python",
   "name": "python3"
  },
  "language_info": {
   "codemirror_mode": {
    "name": "ipython",
    "version": 3
   },
   "file_extension": ".py",
   "mimetype": "text/x-python",
   "name": "python",
   "nbconvert_exporter": "python",
   "pygments_lexer": "ipython3",
   "version": "3.12.3"
  }
 },
 "nbformat": 4,
 "nbformat_minor": 2
}
