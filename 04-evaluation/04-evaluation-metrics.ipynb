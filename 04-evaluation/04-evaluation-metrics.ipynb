{
 "cells": [
  {
   "cell_type": "markdown",
   "metadata": {},
   "source": [
    "# Evaluation Metrics"
   ]
  },
  {
   "cell_type": "code",
   "execution_count": 1,
   "metadata": {},
   "outputs": [
    {
     "name": "stderr",
     "output_type": "stream",
     "text": [
      "/Users/kasteion/repos/kasteion/machine-learning-zoomcamp/venv/lib/python3.12/site-packages/sklearn/linear_model/_logistic.py:469: ConvergenceWarning: lbfgs failed to converge (status=1):\n",
      "STOP: TOTAL NO. of ITERATIONS REACHED LIMIT.\n",
      "\n",
      "Increase the number of iterations (max_iter) or scale the data as shown in:\n",
      "    https://scikit-learn.org/stable/modules/preprocessing.html\n",
      "Please also refer to the documentation for alternative solver options:\n",
      "    https://scikit-learn.org/stable/modules/linear_model.html#logistic-regression\n",
      "  n_iter_i = _check_optimize_result(\n"
     ]
    },
    {
     "data": {
      "text/plain": [
       "np.float64(0.8034066713981547)"
      ]
     },
     "execution_count": 1,
     "metadata": {},
     "output_type": "execute_result"
    }
   ],
   "source": [
    "import pandas as pd\n",
    "import numpy as np\n",
    "from matplotlib import pyplot as plt\n",
    "from sklearn.model_selection import train_test_split\n",
    "from sklearn.feature_extraction import DictVectorizer\n",
    "from sklearn.linear_model import LogisticRegression\n",
    "\n",
    "df = pd.read_csv('Telco-Customer-Churn.csv')\n",
    "df.columns = df.columns.str.lower().str.replace(' ', '_')\n",
    "categorical = list(df.dtypes[df.dtypes == 'object'].index)\n",
    "for c in categorical:\n",
    "    df[c] = df[c].str.lower().str.replace(' ', '_')\n",
    "df.totalcharges = pd.to_numeric(df.totalcharges, errors='coerce').fillna(0)\n",
    "df.churn = (df.churn == 'yes').astype(int)\n",
    "df_full_train, df_test = train_test_split(df, test_size=0.2, random_state=1)\n",
    "df_train, df_val = train_test_split(df_full_train, test_size=0.25, random_state=1)\n",
    "\n",
    "numerical = ['tenure', 'monthlycharges', 'totalcharges']\n",
    "categorical = [c for c in list(df.columns) if c not in numerical + ['customerid', 'churn']]\n",
    "\n",
    "dicts_train = df_train[categorical + numerical].to_dict(orient='records')\n",
    "dv = DictVectorizer(sparse=False)\n",
    "X_train = dv.fit_transform(dicts_train)\n",
    "y_train = df_train.churn.values\n",
    "model = LogisticRegression()\n",
    "model.fit(X_train, y_train)\n",
    "\n",
    "dicts_val = df_val[categorical + numerical].to_dict(orient='records')\n",
    "X_val = dv.transform(dicts_val)\n",
    "y_val = df_val.churn\n",
    "y_pred = model.predict_proba(X_val)[:, 1]\n",
    "churn_decision = (y_pred >= 0.5)\n",
    "(churn_decision == y_val).mean()\n"
   ]
  },
  {
   "cell_type": "markdown",
   "metadata": {},
   "source": [
    "## Accuracy and dummy model\n",
    "\n",
    "- Evaluate the model on different thresholds\n",
    "- Check the accuracy of dummy baselines"
   ]
  },
  {
   "cell_type": "code",
   "execution_count": 2,
   "metadata": {},
   "outputs": [
    {
     "data": {
      "text/plain": [
       "1409"
      ]
     },
     "execution_count": 2,
     "metadata": {},
     "output_type": "execute_result"
    }
   ],
   "source": [
    "# How many customers we have in the validation dataset\n",
    "len(df_val)"
   ]
  },
  {
   "cell_type": "code",
   "execution_count": 3,
   "metadata": {},
   "outputs": [
    {
     "name": "stdout",
     "output_type": "stream",
     "text": [
      "Correct: 1132\n"
     ]
    }
   ],
   "source": [
    "print(\"Correct:\", (churn_decision == y_val).sum())"
   ]
  },
  {
   "cell_type": "code",
   "execution_count": 4,
   "metadata": {},
   "outputs": [
    {
     "name": "stdout",
     "output_type": "stream",
     "text": [
      "Accuracy: 0.8034066713981547\n"
     ]
    }
   ],
   "source": [
    "print(\"Accuracy:\",  (churn_decision == y_val).sum() / len(df_val))"
   ]
  },
  {
   "cell_type": "code",
   "execution_count": 5,
   "metadata": {},
   "outputs": [
    {
     "name": "stdout",
     "output_type": "stream",
     "text": [
      "Accuracy: 0.8034066713981547\n"
     ]
    }
   ],
   "source": [
    "# Is the same as the mean\n",
    "print(\"Accuracy:\", (churn_decision == y_val).mean())"
   ]
  },
  {
   "cell_type": "code",
   "execution_count": 6,
   "metadata": {},
   "outputs": [
    {
     "name": "stdout",
     "output_type": "stream",
     "text": [
      "Threshold: 0.00 Score: 0.274\n",
      "Threshold: 0.05 Score: 0.509\n",
      "Threshold: 0.10 Score: 0.591\n",
      "Threshold: 0.15 Score: 0.666\n",
      "Threshold: 0.20 Score: 0.710\n",
      "Threshold: 0.25 Score: 0.739\n",
      "Threshold: 0.30 Score: 0.760\n",
      "Threshold: 0.35 Score: 0.772\n",
      "Threshold: 0.40 Score: 0.785\n",
      "Threshold: 0.45 Score: 0.793\n",
      "Threshold: 0.50 Score: 0.803\n",
      "Threshold: 0.55 Score: 0.801\n",
      "Threshold: 0.60 Score: 0.795\n",
      "Threshold: 0.65 Score: 0.786\n",
      "Threshold: 0.70 Score: 0.766\n",
      "Threshold: 0.75 Score: 0.744\n",
      "Threshold: 0.80 Score: 0.735\n",
      "Threshold: 0.85 Score: 0.726\n",
      "Threshold: 0.90 Score: 0.726\n",
      "Threshold: 0.95 Score: 0.726\n",
      "Threshold: 1.00 Score: 0.726\n"
     ]
    },
    {
     "data": {
      "text/plain": [
       "[<matplotlib.lines.Line2D at 0x1325fc710>]"
      ]
     },
     "execution_count": 6,
     "metadata": {},
     "output_type": "execute_result"
    },
    {
     "data": {
      "image/png": "[encoded data removed]",
      "text/plain": [
       "<Figure size 640x480 with 1 Axes>"
      ]
     },
     "metadata": {},
     "output_type": "display_data"
    }
   ],
   "source": [
    "# We can measure the accuracy using different thresholds\n",
    "# Here we are creating 21 thresholds between 0 and 1\n",
    "thresholds = np.linspace(0, 1, 21)\n",
    "\n",
    "scores = []\n",
    "\n",
    "# And we can measure the accuracy for each threshold\n",
    "for t in thresholds:\n",
    "    churn_decision = (y_pred >= t)\n",
    "    score = (y_val == churn_decision).mean()\n",
    "    print('Threshold: %.2f Score: %.3f' % (t, score))\n",
    "    scores.append(score)\n",
    "\n",
    "# We plot the scores\n",
    "plt.plot(thresholds, scores)"
   ]
  },
  {
   "cell_type": "code",
   "execution_count": 7,
   "metadata": {},
   "outputs": [
    {
     "data": {
      "text/plain": [
       "0.8034066713981547"
      ]
     },
     "execution_count": 7,
     "metadata": {},
     "output_type": "execute_result"
    }
   ],
   "source": [
    "# We measured the accuracy with this:\n",
    "#   churn_decision = (y_pred >= t)\n",
    "#   score = (y_val == churn_decision).mean()\n",
    "# But we can use the accuracy_score function from sklearn.metrics\n",
    "from sklearn.metrics import accuracy_score\n",
    "accuracy_score(y_val, y_pred >= 0.5)"
   ]
  },
  {
   "cell_type": "code",
   "execution_count": 8,
   "metadata": {},
   "outputs": [
    {
     "name": "stdout",
     "output_type": "stream",
     "text": [
      "Threshold: 0.00 Score: 0.274\n",
      "Threshold: 0.05 Score: 0.509\n",
      "Threshold: 0.10 Score: 0.591\n",
      "Threshold: 0.15 Score: 0.666\n",
      "Threshold: 0.20 Score: 0.710\n",
      "Threshold: 0.25 Score: 0.739\n",
      "Threshold: 0.30 Score: 0.760\n",
      "Threshold: 0.35 Score: 0.772\n",
      "Threshold: 0.40 Score: 0.785\n",
      "Threshold: 0.45 Score: 0.793\n",
      "Threshold: 0.50 Score: 0.803\n",
      "Threshold: 0.55 Score: 0.801\n",
      "Threshold: 0.60 Score: 0.795\n",
      "Threshold: 0.65 Score: 0.786\n",
      "Threshold: 0.70 Score: 0.766\n",
      "Threshold: 0.75 Score: 0.744\n",
      "Threshold: 0.80 Score: 0.735\n",
      "Threshold: 0.85 Score: 0.726\n",
      "Threshold: 0.90 Score: 0.726\n",
      "Threshold: 0.95 Score: 0.726\n",
      "Threshold: 1.00 Score: 0.726\n"
     ]
    }
   ],
   "source": [
    "# And the accuracy of the thresholds will be like this:\n",
    "for t in thresholds:\n",
    "    score = accuracy_score(y_val, y_pred >= t)\n",
    "    print('Threshold: %.2f Score: %.3f' % (t, score))\n",
    "    scores.append(score)"
   ]
  },
  {
   "cell_type": "code",
   "execution_count": 9,
   "metadata": {},
   "outputs": [
    {
     "data": {
      "text/plain": [
       "Counter({np.False_: 1409})"
      ]
     },
     "execution_count": 9,
     "metadata": {},
     "output_type": "execute_result"
    }
   ],
   "source": [
    "# The threshold of 1.0 is interesting because it is a model that predicts that nobody will churn\n",
    "# And even if we have a model that predicts that no customers will churn it will have 72% accuracy\n",
    "# The difference between a model that predicts nobody will churn an our model the difference is 7% (sort of)\n",
    "# This is because we have class imbalance (to many people will not churn and little people will churn)\n",
    "# We will look to the numbers that can help us evaluate our model better.\n",
    "from collections import Counter\n",
    "Counter(y_pred >= 1.0)"
   ]
  },
  {
   "cell_type": "markdown",
   "metadata": {},
   "source": [
    "# Confusion table\n",
    "\n",
    "- Different types of errors and correct decissions\n",
    "    - True Negatives: Correct (Predicted no churn and didn't churn)\n",
    "    - False Negatives: Error (Predicted no churn and churned)\n",
    "    - False Positive: Error (Predicted churn and didn't churn)\n",
    "    - True Positivie: Correct (Predicted churn and churned)\n",
    "- Arranging them in a table"
   ]
  },
  {
   "cell_type": "code",
   "execution_count": 10,
   "metadata": {},
   "outputs": [],
   "source": [
    "actual_positive = (y_val == 1)\n",
    "actual_negative = (y_val == 0)"
   ]
  },
  {
   "cell_type": "code",
   "execution_count": 11,
   "metadata": {},
   "outputs": [],
   "source": [
    "t = 0.5\n",
    "predict_positive = (y_pred >= t)\n",
    "predict_negative = (y_pred < t)"
   ]
  },
  {
   "cell_type": "code",
   "execution_count": 17,
   "metadata": {},
   "outputs": [],
   "source": [
    "# True positives: 210 (Correct)\n",
    "tp = (predict_positive & actual_positive).sum()\n",
    "# True negatives: 910 (Correct)\n",
    "tn = (predict_negative & actual_negative).sum()\n",
    "# False positives: (Error)\n",
    "fp = (predict_positive & actual_negative).sum()\n",
    "# False negatives: (Error)\n",
    "fn = (predict_negative & actual_positive).sum()"
   ]
  },
  {
   "cell_type": "code",
   "execution_count": 19,
   "metadata": {},
   "outputs": [
    {
     "data": {
      "text/plain": [
       "array([[922, 101],\n",
       "       [176, 210]])"
      ]
     },
     "execution_count": 19,
     "metadata": {},
     "output_type": "execute_result"
    }
   ],
   "source": [
    "# A confussion matrix is a way to have the sum results (Correct and Errors) in the same matrix\n",
    "# Is a table like this:\n",
    "#               Predictions\n",
    "#                     Negative       |   Positive    |\n",
    "#           Negative  922 (65%)      | 101 (7%) (Err)\n",
    "#   Actual            -------------- | ------------- |\n",
    "#           Positive  176 (12%) (Err)| 210 (14%)\n",
    "# \n",
    "# We can notice we have a lot more False Negatives than False Positives\n",
    "#\n",
    "# Here instead of having 1 value we have 4 values\n",
    "# And from the values of the confussion matrix we can derive more metrics\n",
    "confussion_matrix = np.array([\n",
    "    [tn, fp],\n",
    "    [fn, tp]\n",
    "])\n",
    "confussion_matrix"
   ]
  },
  {
   "cell_type": "code",
   "execution_count": 20,
   "metadata": {},
   "outputs": [
    {
     "data": {
      "text/plain": [
       "array([[0.6543648 , 0.07168204],\n",
       "       [0.12491128, 0.14904187]])"
      ]
     },
     "execution_count": 20,
     "metadata": {},
     "output_type": "execute_result"
    }
   ],
   "source": [
    "confussion_matrix / confussion_matrix.sum()"
   ]
  },
  {
   "cell_type": "markdown",
   "metadata": {},
   "source": [
    "# Precision and Recall\n",
    "\n",
    "Metrics to validate binary classification models based on the values of the confussion table."
   ]
  },
  {
   "cell_type": "code",
   "execution_count": 24,
   "metadata": {},
   "outputs": [
    {
     "data": {
      "text/plain": [
       "np.float64(0.8034066713981547)"
      ]
     },
     "execution_count": 24,
     "metadata": {},
     "output_type": "execute_result"
    }
   ],
   "source": [
    "accuracy = (tp + tn) / (tp + tn + fp + fn)\n",
    "accuracy"
   ]
  },
  {
   "cell_type": "markdown",
   "metadata": {},
   "source": [
    "**Precission**: Fraction of positive predictions that are correct"
   ]
  },
  {
   "cell_type": "code",
   "execution_count": 25,
   "metadata": {},
   "outputs": [
    {
     "data": {
      "text/plain": [
       "np.float64(0.6752411575562701)"
      ]
     },
     "execution_count": 25,
     "metadata": {},
     "output_type": "execute_result"
    }
   ],
   "source": [
    "# Precission is 67% so we sent promotional email to 33% of users that weren't going to churn (They probably will take advantage of our promitional emails)\n",
    "precission = tp / (tp + fp)\n",
    "precission"
   ]
  },
  {
   "cell_type": "markdown",
   "metadata": {},
   "source": [
    "**Recall**: Fraction of correctly identified positive examples"
   ]
  },
  {
   "cell_type": "code",
   "execution_count": 27,
   "metadata": {},
   "outputs": [
    {
     "data": {
      "text/plain": [
       "np.float64(0.5440414507772021)"
      ]
     },
     "execution_count": 27,
     "metadata": {},
     "output_type": "execute_result"
    }
   ],
   "source": [
    "# Recall is 54% so we failed to identify 46% of users that were going to churn\n",
    "# true positives / (true positives + false negatives)\n",
    "recall = tp / (tp + fn)\n",
    "recall"
   ]
  },
  {
   "cell_type": "markdown",
   "metadata": {},
   "source": [
    "We notice our model is not as accurate as we thought (80%) this is because we have a class imbalance in the data provided."
   ]
  }
 ],
 "metadata": {
  "kernelspec": {
   "display_name": "venv",
   "language": "python",
   "name": "python3"
  },
  "language_info": {
   "codemirror_mode": {
    "name": "ipython",
    "version": 3
   },
   "file_extension": ".py",
   "mimetype": "text/x-python",
   "name": "python",
   "nbconvert_exporter": "python",
   "pygments_lexer": "ipython3",
   "version": "3.12.3"
  }
 },
 "nbformat": 4,
 "nbformat_minor": 2
}
