{
 "cells": [
  {
   "cell_type": "markdown",
   "id": "02c8c9e4-6832-4807-8c4a-a3800337ef52",
   "metadata": {},
   "source": [
    "# Q1. Pandas version"
   ]
  },
  {
   "cell_type": "code",
   "execution_count": 1,
   "id": "59c2b9eb-9f92-45c2-8f29-c6ca9a4643c9",
   "metadata": {},
   "outputs": [
    {
     "data": {
      "text/plain": [
       "'2.2.3'"
      ]
     },
     "execution_count": 1,
     "metadata": {},
     "output_type": "execute_result"
    }
   ],
   "source": [
    "import pandas as pd\n",
    "pd.__version__"
   ]
  },
  {
   "cell_type": "markdown",
   "id": "00ca6e41-18ba-4a30-88da-fd710e83da1a",
   "metadata": {},
   "source": [
    "# Q2. Records count"
   ]
  },
  {
   "cell_type": "code",
   "execution_count": 3,
   "id": "88496545-da58-4a7a-9521-7e9136f308a2",
   "metadata": {},
   "outputs": [
    {
     "data": {
      "text/html": [
       "<div>\n",
       "<style scoped>\n",
       "    .dataframe tbody tr th:only-of-type {\n",
       "        vertical-align: middle;\n",
       "    }\n",
       "\n",
       "    .dataframe tbody tr th {\n",
       "        vertical-align: top;\n",
       "    }\n",
       "\n",
       "    .dataframe thead th {\n",
       "        text-align: right;\n",
       "    }\n",
       "</style>\n",
       "<table border=\"1\" class=\"dataframe\">\n",
       "  <thead>\n",
       "    <tr style=\"text-align: right;\">\n",
       "      <th></th>\n",
       "      <th>Laptop</th>\n",
       "      <th>Status</th>\n",
       "      <th>Brand</th>\n",
       "      <th>Model</th>\n",
       "      <th>CPU</th>\n",
       "      <th>RAM</th>\n",
       "      <th>Storage</th>\n",
       "      <th>Storage type</th>\n",
       "      <th>GPU</th>\n",
       "      <th>Screen</th>\n",
       "      <th>Touch</th>\n",
       "      <th>Final Price</th>\n",
       "    </tr>\n",
       "  </thead>\n",
       "  <tbody>\n",
       "    <tr>\n",
       "      <th>0</th>\n",
       "      <td>ASUS ExpertBook B1 B1502CBA-EJ0436X Intel Core...</td>\n",
       "      <td>New</td>\n",
       "      <td>Asus</td>\n",
       "      <td>ExpertBook</td>\n",
       "      <td>Intel Core i5</td>\n",
       "      <td>8</td>\n",
       "      <td>512</td>\n",
       "      <td>SSD</td>\n",
       "      <td>NaN</td>\n",
       "      <td>15.6</td>\n",
       "      <td>No</td>\n",
       "      <td>1009.0</td>\n",
       "    </tr>\n",
       "    <tr>\n",
       "      <th>1</th>\n",
       "      <td>Alurin Go Start Intel Celeron N4020/8GB/256GB ...</td>\n",
       "      <td>New</td>\n",
       "      <td>Alurin</td>\n",
       "      <td>Go</td>\n",
       "      <td>Intel Celeron</td>\n",
       "      <td>8</td>\n",
       "      <td>256</td>\n",
       "      <td>SSD</td>\n",
       "      <td>NaN</td>\n",
       "      <td>15.6</td>\n",
       "      <td>No</td>\n",
       "      <td>299.0</td>\n",
       "    </tr>\n",
       "  </tbody>\n",
       "</table>\n",
       "</div>"
      ],
      "text/plain": [
       "                                              Laptop Status   Brand  \\\n",
       "0  ASUS ExpertBook B1 B1502CBA-EJ0436X Intel Core...    New    Asus   \n",
       "1  Alurin Go Start Intel Celeron N4020/8GB/256GB ...    New  Alurin   \n",
       "\n",
       "        Model            CPU  RAM  Storage Storage type  GPU  Screen Touch  \\\n",
       "0  ExpertBook  Intel Core i5    8      512          SSD  NaN    15.6    No   \n",
       "1          Go  Intel Celeron    8      256          SSD  NaN    15.6    No   \n",
       "\n",
       "   Final Price  \n",
       "0       1009.0  \n",
       "1        299.0  "
      ]
     },
     "execution_count": 3,
     "metadata": {},
     "output_type": "execute_result"
    }
   ],
   "source": [
    "df = pd.read_csv(\"laptops.csv\")\n",
    "df.head(n=2)"
   ]
  },
  {
   "cell_type": "code",
   "execution_count": 6,
   "id": "59eb5bbe-1add-4bba-9d31-19e09956bc4d",
   "metadata": {},
   "outputs": [
    {
     "data": {
      "text/plain": [
       "2160"
      ]
     },
     "execution_count": 6,
     "metadata": {},
     "output_type": "execute_result"
    }
   ],
   "source": [
    "len(df)"
   ]
  },
  {
   "cell_type": "markdown",
   "id": "350a2334-a2db-4a40-aa8a-51273d8312b3",
   "metadata": {},
   "source": [
    "# Q3. Laptops brands"
   ]
  },
  {
   "cell_type": "code",
   "execution_count": 13,
   "id": "23590c5f-39e4-4f42-b7c5-237e0e9936b0",
   "metadata": {},
   "outputs": [
    {
     "data": {
      "text/plain": [
       "27"
      ]
     },
     "execution_count": 13,
     "metadata": {},
     "output_type": "execute_result"
    }
   ],
   "source": [
    "df.Brand.nunique()\n",
    "# len(df.Brand.unique())"
   ]
  },
  {
   "cell_type": "markdown",
   "id": "80a7df58-8bde-4012-ae27-2b01d75b5b3c",
   "metadata": {},
   "source": [
    "# Q4. Missing values"
   ]
  },
  {
   "cell_type": "code",
   "execution_count": 17,
   "id": "637325c0-c64c-4426-ba6c-92a16c698490",
   "metadata": {},
   "outputs": [
    {
     "data": {
      "text/plain": [
       "3"
      ]
     },
     "execution_count": 17,
     "metadata": {},
     "output_type": "execute_result"
    }
   ],
   "source": [
    "missing_sum = df.isnull().sum()\n",
    "len(missing_sum[missing_sum > 0])"
   ]
  },
  {
   "cell_type": "markdown",
   "id": "54a7325c-a236-45c5-a268-c1eaf0931de6",
   "metadata": {},
   "source": [
    "# Q5. Maximum final price"
   ]
  },
  {
   "cell_type": "code",
   "execution_count": 21,
   "id": "ddf55011-8cdc-4eb8-8857-c7fa391234ec",
   "metadata": {},
   "outputs": [
    {
     "data": {
      "text/plain": [
       "3936"
      ]
     },
     "execution_count": 21,
     "metadata": {},
     "output_type": "execute_result"
    }
   ],
   "source": [
    "int(df[df.Brand == \"Dell\"][\"Final Price\"].max())"
   ]
  },
  {
   "cell_type": "markdown",
   "id": "07407c5a-8301-4d17-bc65-d5d4c0d8c6da",
   "metadata": {},
   "source": [
    "# Q6. Median value of Screen"
   ]
  },
  {
   "cell_type": "code",
   "execution_count": 24,
   "id": "498e4896-93aa-4580-9211-a4e7dc64fffc",
   "metadata": {},
   "outputs": [
    {
     "data": {
      "text/plain": [
       "np.float64(15.6)"
      ]
     },
     "execution_count": 24,
     "metadata": {},
     "output_type": "execute_result"
    }
   ],
   "source": [
    "# Find the median\n",
    "df.Screen.median()"
   ]
  },
  {
   "cell_type": "code",
   "execution_count": 30,
   "id": "08ded7e0-57c3-4668-a4af-36bb635f2f2a",
   "metadata": {},
   "outputs": [
    {
     "data": {
      "text/plain": [
       "np.float64(15.6)"
      ]
     },
     "execution_count": 30,
     "metadata": {},
     "output_type": "execute_result"
    }
   ],
   "source": [
    "# Find the most frecuent\n",
    "df.Screen.mode()[0]\n",
    "# df.Screen.value_counts()"
   ]
  },
  {
   "cell_type": "code",
   "execution_count": 31,
   "id": "c0b06f7a-5f95-4018-8160-3aaf019a97aa",
   "metadata": {},
   "outputs": [
    {
     "data": {
      "text/plain": [
       "0       15.6\n",
       "1       15.6\n",
       "2       15.6\n",
       "3       15.6\n",
       "4       15.6\n",
       "        ... \n",
       "2155    17.3\n",
       "2156    17.3\n",
       "2157    17.3\n",
       "2158    13.4\n",
       "2159    13.4\n",
       "Name: Screen, Length: 2160, dtype: float64"
      ]
     },
     "execution_count": 31,
     "metadata": {},
     "output_type": "execute_result"
    }
   ],
   "source": [
    "df.Screen.fillna(15.6)"
   ]
  },
  {
   "cell_type": "code",
   "execution_count": 32,
   "id": "e0a598e3-1f8d-4a45-867d-59b155a6bbe6",
   "metadata": {},
   "outputs": [
    {
     "data": {
      "text/plain": [
       "np.float64(15.6)"
      ]
     },
     "execution_count": 32,
     "metadata": {},
     "output_type": "execute_result"
    }
   ],
   "source": [
    "# Find the median again\n",
    "df.Screen.median()"
   ]
  },
  {
   "cell_type": "markdown",
   "id": "b8dcee9b-9e72-44c8-9daf-ef561e83de36",
   "metadata": {},
   "source": [
    "# Q7. Sum of weights"
   ]
  },
  {
   "cell_type": "code",
   "execution_count": 51,
   "id": "a1f0bfc6-7e62-4d3f-8443-da6242e43308",
   "metadata": {},
   "outputs": [
    {
     "data": {
      "text/plain": [
       "array([[  8. , 256. ,  15.6],\n",
       "       [  8. , 512. ,  15.6],\n",
       "       [  4. ,  64. ,  14.1],\n",
       "       [  6. ,  64. ,  14.1],\n",
       "       [  6. , 128. ,  14.1],\n",
       "       [  6. , 128. ,  14.1]])"
      ]
     },
     "execution_count": 51,
     "metadata": {},
     "output_type": "execute_result"
    }
   ],
   "source": [
    "# Select all the \"Innjoo\" laptops from the dataset.\n",
    "# Select only columns RAM, Storage, Screen.\n",
    "# Get the underlying NumPy array. Let's call it X.\n",
    "x = df[df.Brand == 'Innjoo'][['RAM', 'Storage', 'Screen']].values\n",
    "x"
   ]
  },
  {
   "cell_type": "code",
   "execution_count": 55,
   "id": "5a7d98fb-852c-47ca-a15c-d29abea4788c",
   "metadata": {},
   "outputs": [
    {
     "data": {
      "text/plain": [
       "array([[2.52000e+02, 8.32000e+03, 5.59800e+02],\n",
       "       [8.32000e+03, 3.68640e+05, 1.73952e+04],\n",
       "       [5.59800e+02, 1.73952e+04, 1.28196e+03]])"
      ]
     },
     "execution_count": 55,
     "metadata": {},
     "output_type": "execute_result"
    }
   ],
   "source": [
    "# Compute matrix-matrix multiplication between the transpose of X and X. To get the transpose, use X.T. Let's call the result XTX.\n",
    "xtx = x.T.dot(x)\n",
    "xtx"
   ]
  },
  {
   "cell_type": "code",
   "execution_count": 59,
   "id": "c4714bcf-1ea2-49cd-99c0-6e3fa42296f0",
   "metadata": {},
   "outputs": [
    {
     "data": {
      "text/plain": [
       "array([[ 2.78025381e-01, -1.51791334e-03, -1.00809855e-01],\n",
       "       [-1.51791334e-03,  1.58286725e-05,  4.48052175e-04],\n",
       "       [-1.00809855e-01,  4.48052175e-04,  3.87214888e-02]])"
      ]
     },
     "execution_count": 59,
     "metadata": {},
     "output_type": "execute_result"
    }
   ],
   "source": [
    "# Compute the inverse of XTX.\n",
    "import numpy as np\n",
    "xtxi = np.linalg.inv(xtx)\n",
    "xtxi"
   ]
  },
  {
   "cell_type": "code",
   "execution_count": 62,
   "id": "7633add7-f046-4c18-87f7-6da44af5a37d",
   "metadata": {},
   "outputs": [
    {
     "data": {
      "text/plain": [
       "array([45.58076606,  0.42783519, 45.29127938])"
      ]
     },
     "execution_count": 62,
     "metadata": {},
     "output_type": "execute_result"
    }
   ],
   "source": [
    "# Create an array y with values [1100, 1300, 800, 900, 1000, 1100].\n",
    "y = np.array([1100, 1300, 800, 900, 1000, 1100])\n",
    "# Multiply the inverse of XTX with the transpose of X, and then multiply the result by y. Call the result w.\n",
    "w = xtxi.dot(x.T).dot(y)\n",
    "w"
   ]
  },
  {
   "cell_type": "code",
   "execution_count": 66,
   "id": "61dabd89-c1b3-4753-976f-8258b410138d",
   "metadata": {},
   "outputs": [
    {
     "data": {
      "text/plain": [
       "np.float64(91.3)"
      ]
     },
     "execution_count": 66,
     "metadata": {},
     "output_type": "execute_result"
    }
   ],
   "source": [
    "# What's the sum of all the elements of the result?\n",
    "w.sum().round(2)"
   ]
  },
  {
   "cell_type": "code",
   "execution_count": null,
   "id": "4f5efc2c-9726-4954-ae6e-22732b846570",
   "metadata": {},
   "outputs": [],
   "source": []
  }
 ],
 "metadata": {
  "kernelspec": {
   "display_name": "Python 3 (ipykernel)",
   "language": "python",
   "name": "python3"
  },
  "language_info": {
   "codemirror_mode": {
    "name": "ipython",
    "version": 3
   },
   "file_extension": ".py",
   "mimetype": "text/x-python",
   "name": "python",
   "nbconvert_exporter": "python",
   "pygments_lexer": "ipython3",
   "version": "3.12.3"
  }
 },
 "nbformat": 4,
 "nbformat_minor": 5
}
