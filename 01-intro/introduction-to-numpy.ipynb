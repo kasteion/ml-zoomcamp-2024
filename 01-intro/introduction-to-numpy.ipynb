{
 "cells": [
  {
   "cell_type": "markdown",
   "id": "18d420bb-3950-48e2-bcbc-8b6cdeb4f999",
   "metadata": {},
   "source": [
    "# Importing numpy"
   ]
  },
  {
   "cell_type": "code",
   "execution_count": null,
   "id": "f1dba159-6dd6-4d2b-9f1a-52c19f8dafbc",
   "metadata": {},
   "outputs": [],
   "source": [
    "import numpy as np"
   ]
  },
  {
   "cell_type": "markdown",
   "id": "af479c8f-d874-4f1e-8c1e-ef0ca7eb11fc",
   "metadata": {},
   "source": [
    "\n",
    "# Creating Arrays"
   ]
  },
  {
   "cell_type": "markdown",
   "id": "cbb3f39e-e657-401b-a622-a690ec37726a",
   "metadata": {},
   "source": [
    "zeros_array = np.zeros(10)\n",
    "zeros_array"
   ]
  },
  {
   "cell_type": "code",
   "execution_count": 9,
   "id": "57717dde-f1b8-4a38-8a09-942f10ed598d",
   "metadata": {},
   "outputs": [
    {
     "data": {
      "text/plain": [
       "array([1., 1., 1., 1., 1., 1., 1., 1., 1., 1.])"
      ]
     },
     "execution_count": 9,
     "metadata": {},
     "output_type": "execute_result"
    }
   ],
   "source": [
    "ones_array = np.ones(10)\n",
    "ones_array"
   ]
  },
  {
   "cell_type": "code",
   "execution_count": 10,
   "id": "9ff515c1-42b2-45fc-8ed8-4beaaf092b53",
   "metadata": {},
   "outputs": [
    {
     "data": {
      "text/plain": [
       "array([3, 3, 3, 3, 3, 3, 3, 3, 3, 3])"
      ]
     },
     "execution_count": 10,
     "metadata": {},
     "output_type": "execute_result"
    }
   ],
   "source": [
    "constant_array = np.full(10, 3)\n",
    "constant_array"
   ]
  },
  {
   "cell_type": "markdown",
   "id": "b492add6-bf34-46d6-9042-129059d9390f",
   "metadata": {},
   "source": [
    "# Converting Lists to Array"
   ]
  },
  {
   "cell_type": "code",
   "execution_count": 12,
   "id": "a66d67a6-ab43-460d-96c0-f103a55ffec0",
   "metadata": {},
   "outputs": [
    {
     "data": {
      "text/plain": [
       "array([2, 3, 4])"
      ]
     },
     "execution_count": 12,
     "metadata": {},
     "output_type": "execute_result"
    }
   ],
   "source": [
    "my_list = [2, 3, 4]\n",
    "array_from_list = np.array(my_list)\n",
    "array_from_list"
   ]
  },
  {
   "cell_type": "markdown",
   "id": "c8dd82df-a3f9-48c9-92b9-30140d550a8b",
   "metadata": {},
   "source": [
    "# Generating Ranges of Numbers"
   ]
  },
  {
   "cell_type": "code",
   "execution_count": 14,
   "id": "31c68936-2b3a-4c95-bd9f-41d13ed79585",
   "metadata": {},
   "outputs": [
    {
     "data": {
      "text/plain": [
       "array([0, 1, 2, 3, 4, 5, 6, 7, 8, 9])"
      ]
     },
     "execution_count": 14,
     "metadata": {},
     "output_type": "execute_result"
    }
   ],
   "source": [
    "range_array = np.arange(10) # Creates an array from 0 to 9\n",
    "range_array"
   ]
  },
  {
   "cell_type": "markdown",
   "id": "ba38e10c-a14b-44f1-ab6e-efd8a3cc38ab",
   "metadata": {},
   "source": [
    "# Creating Arrays with Linear Spacing"
   ]
  },
  {
   "cell_type": "code",
   "execution_count": 16,
   "id": "c4586aaa-f885-4154-888b-18951a6dad35",
   "metadata": {},
   "outputs": [
    {
     "data": {
      "text/plain": [
       "array([0. , 0.1, 0.2, 0.3, 0.4, 0.5, 0.6, 0.7, 0.8, 0.9, 1. ])"
      ]
     },
     "execution_count": 16,
     "metadata": {},
     "output_type": "execute_result"
    }
   ],
   "source": [
    "linspace_array = np.linspace(0, 1, 11) # Creates 11 numbers from 0 to 1\n",
    "linspace_array"
   ]
  },
  {
   "cell_type": "markdown",
   "id": "89d81f50-f5e0-49b9-af9f-89d133d59471",
   "metadata": {},
   "source": [
    "# Multi-dimensional Arrays"
   ]
  },
  {
   "cell_type": "code",
   "execution_count": 17,
   "id": "3f09552e-660d-4428-b7dc-ecc31c0951ac",
   "metadata": {},
   "outputs": [
    {
     "data": {
      "text/plain": [
       "array([[0., 0.],\n",
       "       [0., 0.],\n",
       "       [0., 0.],\n",
       "       [0., 0.],\n",
       "       [0., 0.]])"
      ]
     },
     "execution_count": 17,
     "metadata": {},
     "output_type": "execute_result"
    }
   ],
   "source": [
    "zeros_matrix = np.zeros((5, 2))\n",
    "zeros_matrix"
   ]
  },
  {
   "cell_type": "code",
   "execution_count": 18,
   "id": "fda83e26-4014-4b11-955a-e59007f785bc",
   "metadata": {},
   "outputs": [
    {
     "data": {
      "text/plain": [
       "array([[1., 1.],\n",
       "       [1., 1.],\n",
       "       [1., 1.],\n",
       "       [1., 1.],\n",
       "       [1., 1.]])"
      ]
     },
     "execution_count": 18,
     "metadata": {},
     "output_type": "execute_result"
    }
   ],
   "source": [
    "ones_matrix = np.ones((5,2))\n",
    "ones_matrix"
   ]
  },
  {
   "cell_type": "code",
   "execution_count": 20,
   "id": "06deda14-0031-4860-9116-fc34270731d3",
   "metadata": {},
   "outputs": [
    {
     "data": {
      "text/plain": [
       "array([[3, 3],\n",
       "       [3, 3],\n",
       "       [3, 3],\n",
       "       [3, 3],\n",
       "       [3, 3]])"
      ]
     },
     "execution_count": 20,
     "metadata": {},
     "output_type": "execute_result"
    }
   ],
   "source": [
    "constant_matrix = np.full((5, 2), 3)\n",
    "constant_matrix"
   ]
  },
  {
   "cell_type": "markdown",
   "id": "d17f788b-9bf5-4804-8871-70a3631e944e",
   "metadata": {},
   "source": [
    "# Indexing and Slicing Arrays"
   ]
  },
  {
   "cell_type": "code",
   "execution_count": 22,
   "id": "778bf780-48b0-401e-b5fd-9718ca0ded0a",
   "metadata": {},
   "outputs": [
    {
     "data": {
      "text/plain": [
       "array([[2, 3, 4],\n",
       "       [4, 5, 6]])"
      ]
     },
     "execution_count": 22,
     "metadata": {},
     "output_type": "execute_result"
    }
   ],
   "source": [
    "arr = np.array([[2, 3, 4], [4, 5, 6]])\n",
    "arr"
   ]
  },
  {
   "cell_type": "code",
   "execution_count": 23,
   "id": "db8759c6-cd20-46f4-aec2-fa8658364e7c",
   "metadata": {},
   "outputs": [
    {
     "data": {
      "text/plain": [
       "array([2, 3, 4])"
      ]
     },
     "execution_count": 23,
     "metadata": {},
     "output_type": "execute_result"
    }
   ],
   "source": [
    "first_row = arr[0]\n",
    "first_row"
   ]
  },
  {
   "cell_type": "code",
   "execution_count": 25,
   "id": "6ef2c26d-9945-4035-b964-eb50b3101fa1",
   "metadata": {},
   "outputs": [
    {
     "data": {
      "text/plain": [
       "array([2, 4])"
      ]
     },
     "execution_count": 25,
     "metadata": {},
     "output_type": "execute_result"
    }
   ],
   "source": [
    "first_col = arr[:, 0]\n",
    "first_col"
   ]
  },
  {
   "cell_type": "markdown",
   "id": "bae4df57-ad43-4853-8fc3-978d54fd18d2",
   "metadata": {},
   "source": [
    "# Generating Random Arrays"
   ]
  },
  {
   "cell_type": "code",
   "execution_count": 27,
   "id": "12ddc772-24e4-4477-8cb6-124e29cadb81",
   "metadata": {},
   "outputs": [
    {
     "data": {
      "text/plain": [
       "array([[0.4359949 , 0.02592623],\n",
       "       [0.54966248, 0.43532239],\n",
       "       [0.4203678 , 0.33033482],\n",
       "       [0.20464863, 0.61927097],\n",
       "       [0.29965467, 0.26682728]])"
      ]
     },
     "execution_count": 27,
     "metadata": {},
     "output_type": "execute_result"
    }
   ],
   "source": [
    "np.random.seed(2) # set the seed\n",
    "random_array = np.random.rand(5, 2) # Generates random numbers between 0 and 1\n",
    "random_array"
   ]
  },
  {
   "cell_type": "code",
   "execution_count": 28,
   "id": "7f5bcaf1-097d-4d7d-9cc0-ee2bb3f17a0f",
   "metadata": {},
   "outputs": [
    {
     "data": {
      "text/plain": [
       "array([[ 0.55145404,  2.29220801],\n",
       "       [ 0.04153939, -1.11792545],\n",
       "       [ 0.53905832, -0.5961597 ],\n",
       "       [-0.0191305 ,  1.17500122],\n",
       "       [-0.74787095,  0.00902525]])"
      ]
     },
     "execution_count": 28,
     "metadata": {},
     "output_type": "execute_result"
    }
   ],
   "source": [
    "normal_distribution = np.random.randn(5, 2) # normal distribution\n",
    "normal_distribution"
   ]
  },
  {
   "cell_type": "code",
   "execution_count": 29,
   "id": "454b03e6-e07c-4d8d-b2f7-36bccbcb9e34",
   "metadata": {},
   "outputs": [
    {
     "data": {
      "text/plain": [
       "array([[83, 31],\n",
       "       [66, 80],\n",
       "       [52, 76],\n",
       "       [50,  4],\n",
       "       [90, 63]])"
      ]
     },
     "execution_count": 29,
     "metadata": {},
     "output_type": "execute_result"
    }
   ],
   "source": [
    "random_integers = np.random.randint(low=0, high=100, size=(5, 2))\n",
    "random_integers"
   ]
  },
  {
   "cell_type": "markdown",
   "id": "5cb09112-04bf-4940-b8a9-8c5e6a745e4b",
   "metadata": {},
   "source": [
    "# Array Operations"
   ]
  },
  {
   "cell_type": "code",
   "execution_count": 35,
   "id": "12c29ff3-b463-4671-bef3-a2aeea1f48c0",
   "metadata": {},
   "outputs": [
    {
     "data": {
      "text/plain": [
       "array([[ 7,  8,  9],\n",
       "       [ 9, 10, 11]])"
      ]
     },
     "execution_count": 35,
     "metadata": {},
     "output_type": "execute_result"
    }
   ],
   "source": [
    "arr = arr + 1\n",
    "arr"
   ]
  },
  {
   "cell_type": "code",
   "execution_count": 36,
   "id": "865c7468-f9cf-433c-a773-e2111864f141",
   "metadata": {},
   "outputs": [
    {
     "data": {
      "text/plain": [
       "array([[14, 16, 18],\n",
       "       [18, 20, 22]])"
      ]
     },
     "execution_count": 36,
     "metadata": {},
     "output_type": "execute_result"
    }
   ],
   "source": [
    "arr = arr * 2\n",
    "arr"
   ]
  },
  {
   "cell_type": "markdown",
   "id": "218aff9d-65fc-4681-9a8f-eb812baa99b1",
   "metadata": {},
   "source": [
    "# Element-wise Operations with Two Arrays"
   ]
  },
  {
   "cell_type": "code",
   "execution_count": 37,
   "id": "9249fe8a-88aa-4985-a333-7ba5e6b1cd0c",
   "metadata": {},
   "outputs": [
    {
     "data": {
      "text/plain": [
       "array([4., 4., 4., 4.])"
      ]
     },
     "execution_count": 37,
     "metadata": {},
     "output_type": "execute_result"
    }
   ],
   "source": [
    "arr1 = np.ones(4)\n",
    "arr2 = np.full(4, 3)\n",
    "result = arr1 + arr2 # Element-wise addition\n",
    "result"
   ]
  },
  {
   "cell_type": "code",
   "execution_count": 38,
   "id": "4dbfae6f-700c-4bc9-8646-f4713bbb149b",
   "metadata": {},
   "outputs": [
    {
     "data": {
      "text/plain": [
       "array([0.33333333, 0.33333333, 0.33333333, 0.33333333])"
      ]
     },
     "execution_count": 38,
     "metadata": {},
     "output_type": "execute_result"
    }
   ],
   "source": [
    "result = arr1/ arr2 # Element-wise division\n",
    "result"
   ]
  },
  {
   "cell_type": "markdown",
   "id": "7df9938e-9c22-4334-a624-c3da59c1a2d3",
   "metadata": {},
   "source": [
    "# Comparison Operations"
   ]
  },
  {
   "cell_type": "code",
   "execution_count": 39,
   "id": "052dc02e-3aa4-4269-8bef-00bd3eb7b73d",
   "metadata": {},
   "outputs": [
    {
     "data": {
      "text/plain": [
       "array([False, False,  True,  True])"
      ]
     },
     "execution_count": 39,
     "metadata": {},
     "output_type": "execute_result"
    }
   ],
   "source": [
    "arr = np.array([1, 2, 3, 4])\n",
    "greater_than_2 = arr > 2\n",
    "greater_than_2"
   ]
  },
  {
   "cell_type": "markdown",
   "id": "d336624e-f404-4ec1-a282-00d844c4983b",
   "metadata": {},
   "source": [
    "# Selecting Elements Based on Conditions"
   ]
  },
  {
   "cell_type": "code",
   "execution_count": 40,
   "id": "8695faf0-e12f-4f5f-acc7-8bbbffac7e95",
   "metadata": {},
   "outputs": [
    {
     "data": {
      "text/plain": [
       "array([2, 3, 4])"
      ]
     },
     "execution_count": 40,
     "metadata": {},
     "output_type": "execute_result"
    }
   ],
   "source": [
    "selected_elements = arr[arr > 1] # Gets elements greater than 1\n",
    "selected_elements"
   ]
  },
  {
   "cell_type": "markdown",
   "id": "fd5ba368-201b-4d7e-937a-e42ff41ceb47",
   "metadata": {},
   "source": [
    "# Summary Operations"
   ]
  },
  {
   "cell_type": "code",
   "execution_count": 41,
   "id": "f01eb61f-5985-4551-98ce-1dca2b377226",
   "metadata": {},
   "outputs": [
    {
     "name": "stdout",
     "output_type": "stream",
     "text": [
      "Min: 1\n",
      "Max: 4\n",
      "Sum: 10\n",
      "Mean: 2.5\n",
      "Standard Deviation: 1.118033988749895\n"
     ]
    }
   ],
   "source": [
    "# Minimum\n",
    "min_value = arr.min()\n",
    "max_value = arr.max()\n",
    "sum_value = arr.sum()\n",
    "mean_value = arr.mean()\n",
    "std_deviation = arr.std()\n",
    "print(\"Min:\", min_value)\n",
    "print(\"Max:\", max_value)\n",
    "print(\"Sum:\", sum_value)\n",
    "print(\"Mean:\", mean_value)\n",
    "print(\"Standard Deviation:\", std_deviation)"
   ]
  },
  {
   "cell_type": "code",
   "execution_count": null,
   "id": "e00370bd-6fa6-4240-8f17-c69d18081f11",
   "metadata": {},
   "outputs": [],
   "source": []
  }
 ],
 "metadata": {
  "kernelspec": {
   "display_name": "Python 3 (ipykernel)",
   "language": "python",
   "name": "python3"
  },
  "language_info": {
   "codemirror_mode": {
    "name": "ipython",
    "version": 3
   },
   "file_extension": ".py",
   "mimetype": "text/x-python",
   "name": "python",
   "nbconvert_exporter": "python",
   "pygments_lexer": "ipython3",
   "version": "3.12.3"
  }
 },
 "nbformat": 4,
 "nbformat_minor": 5
}
